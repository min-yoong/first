{
  "nbformat": 4,
  "nbformat_minor": 0,
  "metadata": {
    "colab": {
      "provenance": [],
      "authorship_tag": "ABX9TyMJQpVNZtZSl16vXyo21ilp",
      "include_colab_link": true
    },
    "kernelspec": {
      "name": "python3",
      "display_name": "Python 3"
    },
    "language_info": {
      "name": "python"
    }
  },
  "cells": [
    {
      "cell_type": "markdown",
      "metadata": {
        "id": "view-in-github",
        "colab_type": "text"
      },
      "source": [
        "<a href=\"https://colab.research.google.com/github/min-yoong/first/blob/master/100_python_%EC%9E%90%EB%A3%8C%ED%98%95.ipynb\" target=\"_parent\"><img src=\"https://colab.research.google.com/assets/colab-badge.svg\" alt=\"Open In Colab\"/></a>"
      ]
    },
    {
      "cell_type": "markdown",
      "source": [
        "https://www.python.org/    \n",
        "https://docs.python.org/ko/3/  \n",
        "https://peps.python.org/pep-0008/\n",
        "\n",
        "https://wikidocs.net/book/1  \n",
        "https://dojang.io/course/view.php?id=7\n"
      ],
      "metadata": {
        "id": "S3PGlK4O9ssK"
      }
    },
    {
      "cell_type": "code",
      "execution_count": null,
      "metadata": {
        "colab": {
          "base_uri": "https://localhost:8080/"
        },
        "id": "d_WHOyJw9ks0",
        "outputId": "65f77c95-1821-4826-a722-b828e378ad54"
      },
      "outputs": [
        {
          "output_type": "stream",
          "name": "stdout",
          "text": [
            "Python 3.10.6\n"
          ]
        }
      ],
      "source": [
        "#python version 확인\n",
        "!python --version"
      ]
    },
    {
      "cell_type": "code",
      "source": [
        "#python의 철학\n",
        "import this"
      ],
      "metadata": {
        "colab": {
          "base_uri": "https://localhost:8080/"
        },
        "id": "q8v1ztKA-7_5",
        "outputId": "579d2f9e-66a0-4a33-d582-23cc304453fb"
      },
      "execution_count": null,
      "outputs": [
        {
          "output_type": "stream",
          "name": "stdout",
          "text": [
            "The Zen of Python, by Tim Peters\n",
            "\n",
            "Beautiful is better than ugly.\n",
            "Explicit is better than implicit.\n",
            "Simple is better than complex.\n",
            "Complex is better than complicated.\n",
            "Flat is better than nested.\n",
            "Sparse is better than dense.\n",
            "Readability counts.\n",
            "Special cases aren't special enough to break the rules.\n",
            "Although practicality beats purity.\n",
            "Errors should never pass silently.\n",
            "Unless explicitly silenced.\n",
            "In the face of ambiguity, refuse the temptation to guess.\n",
            "There should be one-- and preferably only one --obvious way to do it.\n",
            "Although that way may not be obvious at first unless you're Dutch.\n",
            "Now is better than never.\n",
            "Although never is often better than *right* now.\n",
            "If the implementation is hard to explain, it's a bad idea.\n",
            "If the implementation is easy to explain, it may be a good idea.\n",
            "Namespaces are one honking great idea -- let's do more of those!\n"
          ]
        }
      ]
    },
    {
      "cell_type": "code",
      "source": [
        "import keyword\n",
        "print(keyword.kwlist)\n",
        "print(len(keyword.kwlist))"
      ],
      "metadata": {
        "colab": {
          "base_uri": "https://localhost:8080/"
        },
        "id": "ZV1MdeY8_EJu",
        "outputId": "a112fa21-15c2-4a78-d726-f9163f2c4a0d"
      },
      "execution_count": null,
      "outputs": [
        {
          "output_type": "stream",
          "name": "stdout",
          "text": [
            "['False', 'None', 'True', 'and', 'as', 'assert', 'async', 'await', 'break', 'class', 'continue', 'def', 'del', 'elif', 'else', 'except', 'finally', 'for', 'from', 'global', 'if', 'import', 'in', 'is', 'lambda', 'nonlocal', 'not', 'or', 'pass', 'raise', 'return', 'try', 'while', 'with', 'yield']\n",
            "35\n"
          ]
        }
      ]
    },
    {
      "cell_type": "code",
      "source": [
        "print('Hello World')\n",
        "print(\"Hello World\")"
      ],
      "metadata": {
        "colab": {
          "base_uri": "https://localhost:8080/"
        },
        "id": "dxNGCCe0_oE1",
        "outputId": "f900741c-a792-4031-807d-785d35ebd4da"
      },
      "execution_count": null,
      "outputs": [
        {
          "output_type": "stream",
          "name": "stdout",
          "text": [
            "Hello World\n",
            "Hello World\n"
          ]
        }
      ]
    },
    {
      "cell_type": "code",
      "source": [
        "print('Hello python'); print(\"Hello python\")"
      ],
      "metadata": {
        "colab": {
          "base_uri": "https://localhost:8080/"
        },
        "id": "zUecwi2oAPrw",
        "outputId": "ef6a7699-7660-45c3-db39-a190538cd40b"
      },
      "execution_count": null,
      "outputs": [
        {
          "output_type": "stream",
          "name": "stdout",
          "text": [
            "Hello python\n",
            "Hello python\n"
          ]
        }
      ]
    },
    {
      "cell_type": "code",
      "source": [
        "a = 10; b=20\n",
        "if(a==10) and  \\\n",
        " (b==20):\n",
        "    print('OK');\n",
        "else:\n",
        "    print('NO');"
      ],
      "metadata": {
        "colab": {
          "base_uri": "https://localhost:8080/"
        },
        "id": "tJhdCD_2Aac-",
        "outputId": "9fb2b78c-daff-42a4-9f9c-1937c2bda872"
      },
      "execution_count": null,
      "outputs": [
        {
          "output_type": "stream",
          "name": "stdout",
          "text": [
            "OK\n"
          ]
        }
      ]
    },
    {
      "cell_type": "code",
      "source": [
        "start=end=1\n",
        "print(start)\n",
        "print(end)"
      ],
      "metadata": {
        "colab": {
          "base_uri": "https://localhost:8080/"
        },
        "id": "87Pj2GBMBMBd",
        "outputId": "082fd611-8eb0-4d2c-8d0e-6ffd654eba38"
      },
      "execution_count": null,
      "outputs": [
        {
          "output_type": "stream",
          "name": "stdout",
          "text": [
            "1\n",
            "1\n"
          ]
        }
      ]
    },
    {
      "cell_type": "code",
      "source": [
        "a=1\n",
        "a=eval('3+4')\n",
        "print(a)\n",
        "\n",
        "a=eval('a+3')\n",
        "print(a)"
      ],
      "metadata": {
        "colab": {
          "base_uri": "https://localhost:8080/"
        },
        "id": "w4hY8sNhCCA2",
        "outputId": "18de71b3-fc8b-456e-fd22-a5909df4dbfc"
      },
      "execution_count": null,
      "outputs": [
        {
          "output_type": "stream",
          "name": "stdout",
          "text": [
            "7\n",
            "10\n"
          ]
        }
      ]
    },
    {
      "cell_type": "markdown",
      "source": [
        "## 자료형\n",
        "1. 데이터 저장방법에 따른 자료형의 분류  \n",
        "  직접(direct)형 : 직접 데이터를 표현하는 자료형 : int, float, complex      \n",
        "  시퀀스(sequence)형: 다른 데이터를 포함하는 자료형, 순서가 있는 집합 자료형 : list,str, tuple, bytes, bytearray,range    \n",
        "  매핑(Mapping)형 : 다른 데이터를 포함하는 자료형 : dict    \n",
        "  집합(Set)형 : 순서가 없고, 중복된 값도 없다. : set, frozenset  \n",
        "\n",
        "2. 변경 가능성에 따른 자료형 분류  \n",
        "  변경 가능형(Mutable) : 데이터의 값을 변경할 수 있다.  : list, dict, set  \n",
        "  변경 불가능형(Immutable) : 데이터의 값을 변경할 수 없다. : int, float, complex, str, tuple, frozense\n",
        "\n",
        "3. 데이터 저장 개수에 따른 자료형의 분류\n",
        "  리터널(Literal/Scalar)형 : 한 가지 객체만 저장한다. : int, bytes, str, float, complex  \n",
        "  컨테이널(Container)형 : 여러 가지 객체를 저장한다. : list, tuple, dict, set, fronzenset\n"
      ],
      "metadata": {
        "id": "yxDX7Q2PCpL_"
      }
    },
    {
      "cell_type": "markdown",
      "source": [
        "typeof( ) : 데이터 자료형 확인"
      ],
      "metadata": {
        "id": "m3v8FLWDD5t-"
      }
    },
    {
      "cell_type": "code",
      "source": [
        "type(5)"
      ],
      "metadata": {
        "colab": {
          "base_uri": "https://localhost:8080/"
        },
        "id": "GDoW9bw5CYHv",
        "outputId": "28bfb0f6-f3ee-42c5-b089-ab7aa61f59f1"
      },
      "execution_count": null,
      "outputs": [
        {
          "output_type": "execute_result",
          "data": {
            "text/plain": [
              "int"
            ]
          },
          "metadata": {},
          "execution_count": 17
        }
      ]
    },
    {
      "cell_type": "code",
      "source": [
        "type(85.3)"
      ],
      "metadata": {
        "colab": {
          "base_uri": "https://localhost:8080/"
        },
        "id": "RZDaPajlD_os",
        "outputId": "4f2bf9cc-591d-4963-b66e-75c2c0c81075"
      },
      "execution_count": null,
      "outputs": [
        {
          "output_type": "execute_result",
          "data": {
            "text/plain": [
              "float"
            ]
          },
          "metadata": {},
          "execution_count": 18
        }
      ]
    },
    {
      "cell_type": "code",
      "source": [
        "type([1, 3, 5])"
      ],
      "metadata": {
        "colab": {
          "base_uri": "https://localhost:8080/"
        },
        "id": "2X9OAkbfECoM",
        "outputId": "9f6b6a87-b905-46c5-f181-596a8339ba52"
      },
      "execution_count": null,
      "outputs": [
        {
          "output_type": "execute_result",
          "data": {
            "text/plain": [
              "list"
            ]
          },
          "metadata": {},
          "execution_count": 20
        }
      ]
    },
    {
      "cell_type": "code",
      "source": [],
      "metadata": {
        "id": "hMAUEcVxez9_"
      },
      "execution_count": null,
      "outputs": []
    },
    {
      "cell_type": "code",
      "source": [
        "type((2, 6, 7))"
      ],
      "metadata": {
        "colab": {
          "base_uri": "https://localhost:8080/"
        },
        "id": "_6ffzTqREFq1",
        "outputId": "9ebc49c1-ad93-48fe-bf9a-39c4aaf42245"
      },
      "execution_count": null,
      "outputs": [
        {
          "output_type": "execute_result",
          "data": {
            "text/plain": [
              "tuple"
            ]
          },
          "metadata": {},
          "execution_count": 21
        }
      ]
    },
    {
      "cell_type": "code",
      "source": [
        "def call():\n",
        "  return 2, 3, 4;"
      ],
      "metadata": {
        "id": "nf52jjH3ETkz"
      },
      "execution_count": null,
      "outputs": []
    },
    {
      "cell_type": "code",
      "source": [
        "print(call())\n",
        "print(type(call()))\n",
        "type(call())"
      ],
      "metadata": {
        "colab": {
          "base_uri": "https://localhost:8080/"
        },
        "id": "Tfqoto0EEwYT",
        "outputId": "af50c581-44c4-4340-bc98-801a138b6c07"
      },
      "execution_count": null,
      "outputs": [
        {
          "output_type": "stream",
          "name": "stdout",
          "text": [
            "(2, 3, 4)\n",
            "<class 'tuple'>\n"
          ]
        },
        {
          "output_type": "execute_result",
          "data": {
            "text/plain": [
              "tuple"
            ]
          },
          "metadata": {},
          "execution_count": 25
        }
      ]
    },
    {
      "cell_type": "code",
      "source": [
        "type({1,2,3})"
      ],
      "metadata": {
        "colab": {
          "base_uri": "https://localhost:8080/"
        },
        "id": "7iBoohogEymt",
        "outputId": "160e225e-9359-46e3-ace0-f68bf0077ab2"
      },
      "execution_count": null,
      "outputs": [
        {
          "output_type": "execute_result",
          "data": {
            "text/plain": [
              "set"
            ]
          },
          "metadata": {},
          "execution_count": 26
        }
      ]
    },
    {
      "cell_type": "code",
      "source": [
        "type({a:3, b:4})"
      ],
      "metadata": {
        "colab": {
          "base_uri": "https://localhost:8080/"
        },
        "id": "j-BByfvrFXaM",
        "outputId": "1dc419ac-a620-4e90-e72b-04ad172cb971"
      },
      "execution_count": null,
      "outputs": [
        {
          "output_type": "execute_result",
          "data": {
            "text/plain": [
              "dict"
            ]
          },
          "metadata": {},
          "execution_count": 27
        }
      ]
    },
    {
      "cell_type": "code",
      "source": [
        "type('python')"
      ],
      "metadata": {
        "colab": {
          "base_uri": "https://localhost:8080/"
        },
        "id": "m3cMtUtwFfmU",
        "outputId": "09e4b764-aa79-44ec-ecef-744a8afd397e"
      },
      "execution_count": null,
      "outputs": [
        {
          "output_type": "execute_result",
          "data": {
            "text/plain": [
              "str"
            ]
          },
          "metadata": {},
          "execution_count": 28
        }
      ]
    },
    {
      "cell_type": "markdown",
      "source": [
        "dir( ) : 자료형의 내장함수를 검색할 수 있다."
      ],
      "metadata": {
        "id": "SIhjWgCUF3nk"
      }
    },
    {
      "cell_type": "code",
      "source": [
        "print(dir(str))"
      ],
      "metadata": {
        "colab": {
          "base_uri": "https://localhost:8080/"
        },
        "id": "rUGVAPkEFp3j",
        "outputId": "de4ba0b1-35a3-4aa2-c598-7b902ce604e1"
      },
      "execution_count": null,
      "outputs": [
        {
          "output_type": "stream",
          "name": "stdout",
          "text": [
            "['__add__', '__class__', '__contains__', '__delattr__', '__dir__', '__doc__', '__eq__', '__format__', '__ge__', '__getattribute__', '__getitem__', '__getnewargs__', '__gt__', '__hash__', '__init__', '__init_subclass__', '__iter__', '__le__', '__len__', '__lt__', '__mod__', '__mul__', '__ne__', '__new__', '__reduce__', '__reduce_ex__', '__repr__', '__rmod__', '__rmul__', '__setattr__', '__sizeof__', '__str__', '__subclasshook__', 'capitalize', 'casefold', 'center', 'count', 'encode', 'endswith', 'expandtabs', 'find', 'format', 'format_map', 'index', 'isalnum', 'isalpha', 'isascii', 'isdecimal', 'isdigit', 'isidentifier', 'islower', 'isnumeric', 'isprintable', 'isspace', 'istitle', 'isupper', 'join', 'ljust', 'lower', 'lstrip', 'maketrans', 'partition', 'removeprefix', 'removesuffix', 'replace', 'rfind', 'rindex', 'rjust', 'rpartition', 'rsplit', 'rstrip', 'split', 'splitlines', 'startswith', 'strip', 'swapcase', 'title', 'translate', 'upper', 'zfill']\n"
          ]
        }
      ]
    },
    {
      "cell_type": "code",
      "source": [
        "print(dir(list))"
      ],
      "metadata": {
        "colab": {
          "base_uri": "https://localhost:8080/"
        },
        "id": "tQpZ_se4GV5j",
        "outputId": "3ce584df-20e8-421e-957f-3173503347b3"
      },
      "execution_count": null,
      "outputs": [
        {
          "output_type": "stream",
          "name": "stdout",
          "text": [
            "['__add__', '__class__', '__class_getitem__', '__contains__', '__delattr__', '__delitem__', '__dir__', '__doc__', '__eq__', '__format__', '__ge__', '__getattribute__', '__getitem__', '__gt__', '__hash__', '__iadd__', '__imul__', '__init__', '__init_subclass__', '__iter__', '__le__', '__len__', '__lt__', '__mul__', '__ne__', '__new__', '__reduce__', '__reduce_ex__', '__repr__', '__reversed__', '__rmul__', '__setattr__', '__setitem__', '__sizeof__', '__str__', '__subclasshook__', 'append', 'clear', 'copy', 'count', 'extend', 'index', 'insert', 'pop', 'remove', 'reverse', 'sort']\n"
          ]
        }
      ]
    },
    {
      "cell_type": "code",
      "source": [
        "a=[1,2,3]\n",
        "print(a.__dir__())"
      ],
      "metadata": {
        "colab": {
          "base_uri": "https://localhost:8080/"
        },
        "id": "c96huF9kGijk",
        "outputId": "e254e9af-704d-4e67-f850-7817f2bd3f11"
      },
      "execution_count": null,
      "outputs": [
        {
          "output_type": "stream",
          "name": "stdout",
          "text": [
            "['__new__', '__repr__', '__hash__', '__getattribute__', '__lt__', '__le__', '__eq__', '__ne__', '__gt__', '__ge__', '__iter__', '__init__', '__len__', '__getitem__', '__setitem__', '__delitem__', '__add__', '__mul__', '__rmul__', '__contains__', '__iadd__', '__imul__', '__reversed__', '__sizeof__', 'clear', 'copy', 'append', 'insert', 'extend', 'pop', 'remove', 'index', 'count', 'reverse', 'sort', '__class_getitem__', '__doc__', '__str__', '__setattr__', '__delattr__', '__reduce_ex__', '__reduce__', '__subclasshook__', '__init_subclass__', '__format__', '__dir__', '__class__']\n"
          ]
        }
      ]
    },
    {
      "cell_type": "code",
      "source": [
        "print(dir(type(a)))"
      ],
      "metadata": {
        "colab": {
          "base_uri": "https://localhost:8080/"
        },
        "id": "QT1FmjwzIT7j",
        "outputId": "52601743-21a2-4602-b27f-15268dedd39e"
      },
      "execution_count": null,
      "outputs": [
        {
          "output_type": "stream",
          "name": "stdout",
          "text": [
            "['__add__', '__class__', '__class_getitem__', '__contains__', '__delattr__', '__delitem__', '__dir__', '__doc__', '__eq__', '__format__', '__ge__', '__getattribute__', '__getitem__', '__gt__', '__hash__', '__iadd__', '__imul__', '__init__', '__init_subclass__', '__iter__', '__le__', '__len__', '__lt__', '__mul__', '__ne__', '__new__', '__reduce__', '__reduce_ex__', '__repr__', '__reversed__', '__rmul__', '__setattr__', '__setitem__', '__sizeof__', '__str__', '__subclasshook__', 'append', 'clear', 'copy', 'count', 'extend', 'index', 'insert', 'pop', 'remove', 'reverse', 'sort']\n"
          ]
        }
      ]
    },
    {
      "cell_type": "markdown",
      "source": [
        "help( ) : 자료형에서 제공하는 메소드 사용법을 검색할 수 있다."
      ],
      "metadata": {
        "id": "a46MFsdKbuQL"
      }
    },
    {
      "cell_type": "code",
      "source": [
        "#help(str)\n",
        "#help(str.index)\n",
        "help(len)\n",
        "help(print)"
      ],
      "metadata": {
        "colab": {
          "base_uri": "https://localhost:8080/"
        },
        "id": "jD2ahY0AW_r8",
        "outputId": "5d4420e7-e10d-4ba7-82bd-81230e5b967d"
      },
      "execution_count": null,
      "outputs": [
        {
          "output_type": "stream",
          "name": "stdout",
          "text": [
            "Help on built-in function len in module builtins:\n",
            "\n",
            "len(obj, /)\n",
            "    Return the number of items in a container.\n",
            "\n",
            "Help on built-in function print in module builtins:\n",
            "\n",
            "print(...)\n",
            "    print(value, ..., sep=' ', end='\\n', file=sys.stdout, flush=False)\n",
            "    \n",
            "    Prints the values to a stream, or to sys.stdout by default.\n",
            "    Optional keyword arguments:\n",
            "    file:  a file-like object (stream); defaults to the current sys.stdout.\n",
            "    sep:   string inserted between values, default a space.\n",
            "    end:   string appended after the last value, default a newline.\n",
            "    flush: whether to forcibly flush the stream.\n",
            "\n"
          ]
        }
      ]
    },
    {
      "cell_type": "markdown",
      "source": [
        "## Sequence 자료형\n",
        "- Sequence은 여러 객체를 저장할 수 있는 순서를 갖는 연속된 자료형이다.\n",
        "- 자료형 종류 : str, tuple, list\n",
        "- sequence형의 공통적인 연산\n",
        "  - 인덱스(indexing)\n",
        "  - 슬라이싱(slicing)\n",
        "  - 연결하기\n",
        "  - 반복하기\n",
        "  - 멤버 검사\n",
        "  - 길이정보"
      ],
      "metadata": {
        "id": "9gDKDDo_cyv5"
      }
    },
    {
      "cell_type": "markdown",
      "source": [
        "문자열(str)\n",
        "- 문자열은 문자들을 표현하는 자료형으로 작은따옴표(')나 큰따옴표(\")로 묶는다.\n",
        "- 문자열의 슬라이싱 : [인덱스 시작 : 인덱스 끝 : 스텝]\n",
        "- 스텝의 default은 1의 값을 갖는다."
      ],
      "metadata": {
        "id": "kxfvhIBedBn0"
      }
    },
    {
      "cell_type": "code",
      "source": [
        "s_val = 'hello python!'\n",
        "s_val"
      ],
      "metadata": {
        "colab": {
          "base_uri": "https://localhost:8080/",
          "height": 36
        },
        "id": "79XovJW4bKkq",
        "outputId": "214e011f-befc-4cc3-c5ec-4497d37214e7"
      },
      "execution_count": null,
      "outputs": [
        {
          "output_type": "execute_result",
          "data": {
            "text/plain": [
              "'hello python!'"
            ],
            "application/vnd.google.colaboratory.intrinsic+json": {
              "type": "string"
            }
          },
          "metadata": {},
          "execution_count": 18
        }
      ]
    },
    {
      "cell_type": "code",
      "source": [
        "s_val[1]"
      ],
      "metadata": {
        "colab": {
          "base_uri": "https://localhost:8080/",
          "height": 36
        },
        "id": "QwrGoI_2dPa_",
        "outputId": "0132250a-6654-4a4f-e4de-0d66e56c5c9e"
      },
      "execution_count": null,
      "outputs": [
        {
          "output_type": "execute_result",
          "data": {
            "text/plain": [
              "'e'"
            ],
            "application/vnd.google.colaboratory.intrinsic+json": {
              "type": "string"
            }
          },
          "metadata": {},
          "execution_count": 19
        }
      ]
    },
    {
      "cell_type": "code",
      "source": [
        "s_val[0:3] #0부터 3미만까지"
      ],
      "metadata": {
        "colab": {
          "base_uri": "https://localhost:8080/",
          "height": 36
        },
        "id": "dZsO0sxzdUhB",
        "outputId": "36621087-543e-4f35-cb60-cb032fbae8d4"
      },
      "execution_count": null,
      "outputs": [
        {
          "output_type": "execute_result",
          "data": {
            "text/plain": [
              "'hel'"
            ],
            "application/vnd.google.colaboratory.intrinsic+json": {
              "type": "string"
            }
          },
          "metadata": {},
          "execution_count": 20
        }
      ]
    },
    {
      "cell_type": "code",
      "source": [
        "s_val[1:]"
      ],
      "metadata": {
        "colab": {
          "base_uri": "https://localhost:8080/",
          "height": 36
        },
        "id": "0yQ1TlWYdbuR",
        "outputId": "0f9b42c8-e05e-4007-fb9a-7a30ccaaf67c"
      },
      "execution_count": null,
      "outputs": [
        {
          "output_type": "execute_result",
          "data": {
            "text/plain": [
              "'ello python!'"
            ],
            "application/vnd.google.colaboratory.intrinsic+json": {
              "type": "string"
            }
          },
          "metadata": {},
          "execution_count": 21
        }
      ]
    },
    {
      "cell_type": "code",
      "source": [
        "s_val[:3]"
      ],
      "metadata": {
        "colab": {
          "base_uri": "https://localhost:8080/",
          "height": 36
        },
        "id": "XgCs2hMRdo2Z",
        "outputId": "c08bcf71-32ef-40d4-f69b-b21a4fd7e8ad"
      },
      "execution_count": null,
      "outputs": [
        {
          "output_type": "execute_result",
          "data": {
            "text/plain": [
              "'hel'"
            ],
            "application/vnd.google.colaboratory.intrinsic+json": {
              "type": "string"
            }
          },
          "metadata": {},
          "execution_count": 22
        }
      ]
    },
    {
      "cell_type": "code",
      "source": [
        "s_val[:]"
      ],
      "metadata": {
        "colab": {
          "base_uri": "https://localhost:8080/",
          "height": 36
        },
        "id": "W8wUwUJ9dxYR",
        "outputId": "8b0efe76-7535-4103-bf61-fd864ad5fbc2"
      },
      "execution_count": null,
      "outputs": [
        {
          "output_type": "execute_result",
          "data": {
            "text/plain": [
              "'hello python!'"
            ],
            "application/vnd.google.colaboratory.intrinsic+json": {
              "type": "string"
            }
          },
          "metadata": {},
          "execution_count": 23
        }
      ]
    },
    {
      "cell_type": "code",
      "source": [
        "s_val[-1]"
      ],
      "metadata": {
        "colab": {
          "base_uri": "https://localhost:8080/",
          "height": 36
        },
        "id": "KDshK4R5d7w4",
        "outputId": "1348668c-af50-4175-a2a7-9e56d4cd784d"
      },
      "execution_count": null,
      "outputs": [
        {
          "output_type": "execute_result",
          "data": {
            "text/plain": [
              "'!'"
            ],
            "application/vnd.google.colaboratory.intrinsic+json": {
              "type": "string"
            }
          },
          "metadata": {},
          "execution_count": 24
        }
      ]
    },
    {
      "cell_type": "code",
      "source": [
        "s_val[-3:-1]"
      ],
      "metadata": {
        "colab": {
          "base_uri": "https://localhost:8080/",
          "height": 36
        },
        "id": "nXiOerYweCxB",
        "outputId": "4d0a7d1a-82d6-4525-b796-a4d80b2c3837"
      },
      "execution_count": null,
      "outputs": [
        {
          "output_type": "execute_result",
          "data": {
            "text/plain": [
              "'on'"
            ],
            "application/vnd.google.colaboratory.intrinsic+json": {
              "type": "string"
            }
          },
          "metadata": {},
          "execution_count": 25
        }
      ]
    },
    {
      "cell_type": "code",
      "source": [
        "s_val[::] #[start:end:step]"
      ],
      "metadata": {
        "colab": {
          "base_uri": "https://localhost:8080/",
          "height": 36
        },
        "id": "m0MPsUqWeII4",
        "outputId": "57922551-9828-4a77-dc40-fb0d5b145807"
      },
      "execution_count": null,
      "outputs": [
        {
          "output_type": "execute_result",
          "data": {
            "text/plain": [
              "'hello python!'"
            ],
            "application/vnd.google.colaboratory.intrinsic+json": {
              "type": "string"
            }
          },
          "metadata": {},
          "execution_count": 27
        }
      ]
    },
    {
      "cell_type": "code",
      "source": [
        "s_val[::2]  #'hello python!'"
      ],
      "metadata": {
        "colab": {
          "base_uri": "https://localhost:8080/",
          "height": 36
        },
        "id": "IpuU9gBbeVjp",
        "outputId": "1d7b858b-dfd2-4d6d-dc0b-8b30fd876734"
      },
      "execution_count": null,
      "outputs": [
        {
          "output_type": "execute_result",
          "data": {
            "text/plain": [
              "'hlopto!'"
            ],
            "application/vnd.google.colaboratory.intrinsic+json": {
              "type": "string"
            }
          },
          "metadata": {},
          "execution_count": 28
        }
      ]
    },
    {
      "cell_type": "code",
      "source": [
        "s_val[::-2]"
      ],
      "metadata": {
        "colab": {
          "base_uri": "https://localhost:8080/",
          "height": 36
        },
        "id": "sQAjKGMQezY4",
        "outputId": "07616147-b5a0-428e-86c3-5a3618aac539"
      },
      "execution_count": null,
      "outputs": [
        {
          "output_type": "execute_result",
          "data": {
            "text/plain": [
              "'!otpolh'"
            ],
            "application/vnd.google.colaboratory.intrinsic+json": {
              "type": "string"
            }
          },
          "metadata": {},
          "execution_count": 29
        }
      ]
    },
    {
      "cell_type": "code",
      "source": [
        "s_val[::-1]"
      ],
      "metadata": {
        "colab": {
          "base_uri": "https://localhost:8080/",
          "height": 36
        },
        "id": "vhya7WRofAqA",
        "outputId": "c1b5e45f-8c99-4aac-d3fa-0803aaaa60aa"
      },
      "execution_count": null,
      "outputs": [
        {
          "output_type": "execute_result",
          "data": {
            "text/plain": [
              "'!nohtyp olleh'"
            ],
            "application/vnd.google.colaboratory.intrinsic+json": {
              "type": "string"
            }
          },
          "metadata": {},
          "execution_count": 30
        }
      ]
    },
    {
      "cell_type": "markdown",
      "source": [
        "문자열의 연결하기는 (+)연산자를 사용"
      ],
      "metadata": {
        "id": "qEB1G590fVyR"
      }
    },
    {
      "cell_type": "code",
      "source": [
        "s_val2 = 'hello'+ ' ' + 'python!'\n",
        "s_val2"
      ],
      "metadata": {
        "colab": {
          "base_uri": "https://localhost:8080/",
          "height": 36
        },
        "id": "Z3xjPF1bfFdY",
        "outputId": "d939221a-6f75-415a-b2cf-58302f92a862"
      },
      "execution_count": null,
      "outputs": [
        {
          "output_type": "execute_result",
          "data": {
            "text/plain": [
              "'hello python!'"
            ],
            "application/vnd.google.colaboratory.intrinsic+json": {
              "type": "string"
            }
          },
          "metadata": {},
          "execution_count": 32
        }
      ]
    },
    {
      "cell_type": "markdown",
      "source": [
        "문자열 반복하기는 (*)연산자를 사용"
      ],
      "metadata": {
        "id": "-byxUrLifwiT"
      }
    },
    {
      "cell_type": "code",
      "source": [
        "#s_val3 = 'win' + 3\n",
        "s_val3 = 'win' * 3\n",
        "s_val3"
      ],
      "metadata": {
        "colab": {
          "base_uri": "https://localhost:8080/",
          "height": 36
        },
        "id": "Z7bGGvhqfi6A",
        "outputId": "350ef279-81e4-4357-c1a5-7e602a19d745"
      },
      "execution_count": null,
      "outputs": [
        {
          "output_type": "execute_result",
          "data": {
            "text/plain": [
              "'winwinwin'"
            ],
            "application/vnd.google.colaboratory.intrinsic+json": {
              "type": "string"
            }
          },
          "metadata": {},
          "execution_count": 35
        }
      ]
    },
    {
      "cell_type": "code",
      "source": [
        "s_val3 = 'win' * 'python'\n",
        "s_val3"
      ],
      "metadata": {
        "colab": {
          "base_uri": "https://localhost:8080/",
          "height": 194
        },
        "id": "mKscSaN_f4Pw",
        "outputId": "834ddb60-d9f4-4c04-e87c-333858004790"
      },
      "execution_count": null,
      "outputs": [
        {
          "output_type": "error",
          "ename": "TypeError",
          "evalue": "ignored",
          "traceback": [
            "\u001b[0;31m---------------------------------------------------------------------------\u001b[0m",
            "\u001b[0;31mTypeError\u001b[0m                                 Traceback (most recent call last)",
            "\u001b[0;32m<ipython-input-36-78c03af56ea2>\u001b[0m in \u001b[0;36m<cell line: 1>\u001b[0;34m()\u001b[0m\n\u001b[0;32m----> 1\u001b[0;31m \u001b[0ms_val3\u001b[0m \u001b[0;34m=\u001b[0m \u001b[0;34m'win'\u001b[0m \u001b[0;34m*\u001b[0m \u001b[0;34m'python'\u001b[0m\u001b[0;34m\u001b[0m\u001b[0;34m\u001b[0m\u001b[0m\n\u001b[0m\u001b[1;32m      2\u001b[0m \u001b[0ms_val3\u001b[0m\u001b[0;34m\u001b[0m\u001b[0;34m\u001b[0m\u001b[0m\n",
            "\u001b[0;31mTypeError\u001b[0m: can't multiply sequence by non-int of type 'str'"
          ]
        }
      ]
    },
    {
      "cell_type": "markdown",
      "source": [
        "문자열을 변경할 때 슬라이싱과 연결하기 사용"
      ],
      "metadata": {
        "id": "9FYD8uZ9gwBS"
      }
    },
    {
      "cell_type": "code",
      "source": [
        "s_val3 = 'hello python1'"
      ],
      "metadata": {
        "id": "Pb9x0F8cgT2w"
      },
      "execution_count": null,
      "outputs": []
    },
    {
      "cell_type": "code",
      "source": [
        "s_val4 = 'H' + s_val3[1:]\n",
        "s_val4"
      ],
      "metadata": {
        "colab": {
          "base_uri": "https://localhost:8080/",
          "height": 36
        },
        "id": "i1CmUBPQg7X8",
        "outputId": "ce21a6bc-cbb7-4c83-8a1f-fe58d2091908"
      },
      "execution_count": null,
      "outputs": [
        {
          "output_type": "execute_result",
          "data": {
            "text/plain": [
              "'Hello python1'"
            ],
            "application/vnd.google.colaboratory.intrinsic+json": {
              "type": "string"
            }
          },
          "metadata": {},
          "execution_count": 38
        }
      ]
    },
    {
      "cell_type": "markdown",
      "source": [
        "문자열의 길이는 len( ) 내장함수 사용"
      ],
      "metadata": {
        "id": "MKuoY8Bkhrwf"
      }
    },
    {
      "cell_type": "code",
      "source": [
        "len(s_val4)"
      ],
      "metadata": {
        "colab": {
          "base_uri": "https://localhost:8080/"
        },
        "id": "fbJgnLHZhFAP",
        "outputId": "2c282ed9-a743-45af-fa06-e30a438a5dcc"
      },
      "execution_count": null,
      "outputs": [
        {
          "output_type": "execute_result",
          "data": {
            "text/plain": [
              "13"
            ]
          },
          "metadata": {},
          "execution_count": 39
        }
      ]
    },
    {
      "cell_type": "markdown",
      "source": [
        "in연산자로 멤버 검사를 해서 부분 문자열의 존재 확인"
      ],
      "metadata": {
        "id": "3R3LhS97h_TX"
      }
    },
    {
      "cell_type": "code",
      "source": [
        "s_val5 = 'red green blue'\n",
        "s_val5"
      ],
      "metadata": {
        "colab": {
          "base_uri": "https://localhost:8080/",
          "height": 36
        },
        "id": "RwWibUgYhw-v",
        "outputId": "8fb4c61f-842a-4170-dee0-495a21d57466"
      },
      "execution_count": null,
      "outputs": [
        {
          "output_type": "execute_result",
          "data": {
            "text/plain": [
              "'red green blue'"
            ],
            "application/vnd.google.colaboratory.intrinsic+json": {
              "type": "string"
            }
          },
          "metadata": {},
          "execution_count": 40
        }
      ]
    },
    {
      "cell_type": "code",
      "source": [
        "'red' in s_val5"
      ],
      "metadata": {
        "colab": {
          "base_uri": "https://localhost:8080/"
        },
        "id": "Tk-Q3FtWiKzv",
        "outputId": "66916d76-bdf1-4eae-d2e5-48f25b9d1b32"
      },
      "execution_count": null,
      "outputs": [
        {
          "output_type": "execute_result",
          "data": {
            "text/plain": [
              "True"
            ]
          },
          "metadata": {},
          "execution_count": 41
        }
      ]
    },
    {
      "cell_type": "code",
      "source": [
        "'white' in s_val5"
      ],
      "metadata": {
        "colab": {
          "base_uri": "https://localhost:8080/"
        },
        "id": "HetFu7R5iQYH",
        "outputId": "696454e2-7cc7-4042-869f-50c40988a3ac"
      },
      "execution_count": null,
      "outputs": [
        {
          "output_type": "execute_result",
          "data": {
            "text/plain": [
              "False"
            ]
          },
          "metadata": {},
          "execution_count": 42
        }
      ]
    },
    {
      "cell_type": "markdown",
      "source": [
        "여러 줄 문자열은 작은따옴표 또는 큰따옴표를 세번 연속해서 입력"
      ],
      "metadata": {
        "id": "ZqnZUMAnjGF4"
      }
    },
    {
      "cell_type": "code",
      "source": [
        "s_val6 = '''red\n",
        "green\n",
        "blue\n",
        "'''\n",
        "s_val6"
      ],
      "metadata": {
        "colab": {
          "base_uri": "https://localhost:8080/",
          "height": 36
        },
        "id": "RmLdkk8BiVog",
        "outputId": "fa0a4fd9-5524-492a-ede3-15bbb3727f20"
      },
      "execution_count": null,
      "outputs": [
        {
          "output_type": "execute_result",
          "data": {
            "text/plain": [
              "'red \\ngreen \\nblue\\n'"
            ],
            "application/vnd.google.colaboratory.intrinsic+json": {
              "type": "string"
            }
          },
          "metadata": {},
          "execution_count": 44
        }
      ]
    },
    {
      "cell_type": "markdown",
      "source": [
        "문자열 서식지정 : 어떤 문서 양식을 만들어 놓고 빈칸에 필요한 내용을 채워서 문서를 지정한다."
      ],
      "metadata": {
        "id": "rWV8zmnWjQZh"
      }
    },
    {
      "cell_type": "code",
      "source": [
        "s_val7 = 'python'\n",
        "s_val8 = 83.5\n",
        "\n",
        "print('%s 의 점수는 %.1f입니다.' % ( s_val7, s_val8)) # python1, 2방식\n",
        "print('{} 의 점수는 {}입니다.'.format(s_val7, s_val8)) # python3 방식\n",
        "print('{1} 의 점수는 {0}입니다.'.format(s_val8, s_val7))\n",
        "print('{subject} 의 점수는 {jumsu}입니다.'.format(jumsu=s_val8, subject=s_val7))\n",
        "print('{{0}} 의 점수는 {{1}}입니다.'.format(s_val7, s_val8)) # { }자체를 출력할때 {{}}을 한다.\n",
        "print('{{{0}}} 의 점수는 {{{1}}}입니다.'.format(s_val7, s_val8)) # {}자체와 값을 출력할때는 {{{}}}을 한다.\n",
        "\n",
        "print('{0:<10} 의 점수는 {1}입니다.'.format(s_val7, s_val8))  # 10자리 확보하고 남은 공간은 오른쪽을 여백으로 채운다.\n",
        "#print('{:<10} 의 점수는 {}입니다.'.format(s_val7, s_val8))\n",
        "\n",
        "print('{0:>10} 의 점수는 {1}입니다.'.format(s_val7, s_val8))  # 10자리 확보하고 남은 공간은 왼쪽을 여백으로 채운다.\n",
        "#print('{:>10} 의 점수는 {}입니다.'.format(s_val7, s_val8))"
      ],
      "metadata": {
        "id": "0QaAi3vRixu-",
        "colab": {
          "base_uri": "https://localhost:8080/"
        },
        "outputId": "01708cb7-479d-4fa8-d94d-4ad0a6e0efab"
      },
      "execution_count": null,
      "outputs": [
        {
          "output_type": "stream",
          "name": "stdout",
          "text": [
            "python 의 점수는 83.5입니다.\n",
            "python 의 점수는 83.5입니다.\n",
            "python 의 점수는 83.5입니다.\n",
            "python 의 점수는 83.5입니다.\n",
            "{0} 의 점수는 {1}입니다.\n",
            "{python} 의 점수는 {83.5}입니다.\n",
            "python     의 점수는 83.5입니다.\n",
            "    python 의 점수는 83.5입니다.\n"
          ]
        }
      ]
    },
    {
      "cell_type": "markdown",
      "source": [
        "### 리스트(list)\n",
        " - 시퀀스(Sequence) 자료형으로 데이터의 크기나 원소 값을 변경할 수 있다.\n",
        " - 리스트는 [ ]대괄호로 표현한다."
      ],
      "metadata": {
        "id": "FqvnqItbq7ZN"
      }
    },
    {
      "cell_type": "code",
      "source": [
        "l = []\n",
        "print(l)\n",
        "print(type(l))"
      ],
      "metadata": {
        "colab": {
          "base_uri": "https://localhost:8080/"
        },
        "id": "69_7M91ElaiZ",
        "outputId": "d11c546f-7f30-45f0-c98c-0331c9911546"
      },
      "execution_count": null,
      "outputs": [
        {
          "output_type": "stream",
          "name": "stdout",
          "text": [
            "[]\n",
            "<class 'list'>\n"
          ]
        }
      ]
    },
    {
      "cell_type": "markdown",
      "source": [
        "java"
      ],
      "metadata": {
        "id": "9L1V9QBRrUB8"
      }
    },
    {
      "cell_type": "markdown",
      "source": [
        "```java\n",
        "  class Test{\n",
        "    public static void main(String[] args){\n",
        "      int[] arr = new int[]{1,2,3};\n",
        "    }     \n",
        "  }\n",
        "\n",
        "```"
      ],
      "metadata": {
        "id": "WOnBrepTrfWD"
      }
    },
    {
      "cell_type": "markdown",
      "source": [
        "javascirpt"
      ],
      "metadata": {
        "id": "s8Qw5H77rv6D"
      }
    },
    {
      "cell_type": "markdown",
      "source": [
        "```javascript\n",
        "  let color = ['red', 'green', 'blue']\n",
        "```"
      ],
      "metadata": {
        "id": "vny4b-nbryDt"
      }
    },
    {
      "cell_type": "code",
      "source": [
        "l_val = [10, 20, 30]\n",
        "l_val"
      ],
      "metadata": {
        "colab": {
          "base_uri": "https://localhost:8080/"
        },
        "id": "oke7KuEyrKoy",
        "outputId": "2d5ff211-99b6-4eee-8cd7-3d4faefae423"
      },
      "execution_count": null,
      "outputs": [
        {
          "output_type": "execute_result",
          "data": {
            "text/plain": [
              "[10, 20, 30]"
            ]
          },
          "metadata": {},
          "execution_count": 67
        }
      ]
    },
    {
      "cell_type": "code",
      "source": [
        "print(type(l_val))"
      ],
      "metadata": {
        "colab": {
          "base_uri": "https://localhost:8080/"
        },
        "id": "WSTRJnxNsCrz",
        "outputId": "ca786593-7cb8-45f0-976a-0818270a8b1c"
      },
      "execution_count": null,
      "outputs": [
        {
          "output_type": "stream",
          "name": "stdout",
          "text": [
            "<class 'list'>\n"
          ]
        }
      ]
    },
    {
      "cell_type": "markdown",
      "source": [
        "리스트(list)는 슬라이싱을 이용해서 데이터를 접근할 수 있다."
      ],
      "metadata": {
        "id": "NMB-7VY7sQar"
      }
    },
    {
      "cell_type": "code",
      "source": [
        "l_val2=[5,10,15,20,25,30]\n",
        "l_val2[3]"
      ],
      "metadata": {
        "colab": {
          "base_uri": "https://localhost:8080/"
        },
        "id": "s6ZmOB7UsG2L",
        "outputId": "525e18d9-4e2d-4fa2-bad1-d767b2783802"
      },
      "execution_count": null,
      "outputs": [
        {
          "output_type": "execute_result",
          "data": {
            "text/plain": [
              "20"
            ]
          },
          "metadata": {},
          "execution_count": 72
        }
      ]
    },
    {
      "cell_type": "code",
      "source": [
        "l_val2[0:3]"
      ],
      "metadata": {
        "colab": {
          "base_uri": "https://localhost:8080/"
        },
        "id": "R1Ivwqdasbn6",
        "outputId": "32881ffb-8fbf-47e8-98b9-4822a8deac23"
      },
      "execution_count": null,
      "outputs": [
        {
          "output_type": "execute_result",
          "data": {
            "text/plain": [
              "[5, 10, 15]"
            ]
          },
          "metadata": {},
          "execution_count": 70
        }
      ]
    },
    {
      "cell_type": "code",
      "source": [
        "l_val2[1:]"
      ],
      "metadata": {
        "colab": {
          "base_uri": "https://localhost:8080/"
        },
        "id": "g77U5P90skEC",
        "outputId": "cc776ed2-1581-4956-f332-62208c9c3fd4"
      },
      "execution_count": null,
      "outputs": [
        {
          "output_type": "execute_result",
          "data": {
            "text/plain": [
              "[10, 15, 20, 25, 30]"
            ]
          },
          "metadata": {},
          "execution_count": 73
        }
      ]
    },
    {
      "cell_type": "code",
      "source": [
        "l_val2[:3]"
      ],
      "metadata": {
        "colab": {
          "base_uri": "https://localhost:8080/"
        },
        "id": "LJoYtBU2s3gC",
        "outputId": "bdd4b8f9-0fd9-4afe-c56d-8c5de85d661f"
      },
      "execution_count": null,
      "outputs": [
        {
          "output_type": "execute_result",
          "data": {
            "text/plain": [
              "[5, 10, 15]"
            ]
          },
          "metadata": {},
          "execution_count": 74
        }
      ]
    },
    {
      "cell_type": "code",
      "source": [
        "l_val2[:]"
      ],
      "metadata": {
        "colab": {
          "base_uri": "https://localhost:8080/"
        },
        "id": "yTCPXdxbs8kL",
        "outputId": "9e7ec0fb-2d01-4822-fae9-5b634fc426b3"
      },
      "execution_count": null,
      "outputs": [
        {
          "output_type": "execute_result",
          "data": {
            "text/plain": [
              "[5, 10, 15, 20, 25, 30]"
            ]
          },
          "metadata": {},
          "execution_count": 75
        }
      ]
    },
    {
      "cell_type": "code",
      "source": [
        "l_val2[::-1]"
      ],
      "metadata": {
        "colab": {
          "base_uri": "https://localhost:8080/"
        },
        "id": "4pPdTeOdtE2i",
        "outputId": "f6a8c4ba-f311-498d-c919-f11fef1a36ac"
      },
      "execution_count": null,
      "outputs": [
        {
          "output_type": "execute_result",
          "data": {
            "text/plain": [
              "[30, 25, 20, 15, 10, 5]"
            ]
          },
          "metadata": {},
          "execution_count": 76
        }
      ]
    },
    {
      "cell_type": "code",
      "source": [
        "l_val2[-1:-3:-1]"
      ],
      "metadata": {
        "colab": {
          "base_uri": "https://localhost:8080/"
        },
        "id": "8RFZTqXLtIm7",
        "outputId": "36e1f0c8-e3c2-48f9-d8d2-54fe93cd92d4"
      },
      "execution_count": null,
      "outputs": [
        {
          "output_type": "execute_result",
          "data": {
            "text/plain": [
              "[30, 25]"
            ]
          },
          "metadata": {},
          "execution_count": 80
        }
      ]
    },
    {
      "cell_type": "code",
      "source": [
        "l_val2[-2: :1]"
      ],
      "metadata": {
        "colab": {
          "base_uri": "https://localhost:8080/"
        },
        "id": "ut6X1ZM8tcaK",
        "outputId": "59660327-61ff-475d-c03d-fb72597e1e3c"
      },
      "execution_count": null,
      "outputs": [
        {
          "output_type": "execute_result",
          "data": {
            "text/plain": [
              "[25, 30]"
            ]
          },
          "metadata": {},
          "execution_count": 82
        }
      ]
    },
    {
      "cell_type": "code",
      "source": [
        "l_val2[1:3:1]"
      ],
      "metadata": {
        "colab": {
          "base_uri": "https://localhost:8080/"
        },
        "id": "9sLmfKvHt_HS",
        "outputId": "2d7c282c-1623-49a4-bca5-1b12701b78b7"
      },
      "execution_count": null,
      "outputs": [
        {
          "output_type": "execute_result",
          "data": {
            "text/plain": [
              "[10, 15]"
            ]
          },
          "metadata": {},
          "execution_count": 85
        }
      ]
    },
    {
      "cell_type": "code",
      "source": [
        "l_val2[2:0:-1]"
      ],
      "metadata": {
        "colab": {
          "base_uri": "https://localhost:8080/"
        },
        "id": "JcDKcvMMuuR6",
        "outputId": "89dd988e-bb16-4479-ec1a-569fb0f4cd4c"
      },
      "execution_count": null,
      "outputs": [
        {
          "output_type": "execute_result",
          "data": {
            "text/plain": [
              "[15, 10]"
            ]
          },
          "metadata": {},
          "execution_count": 87
        }
      ]
    },
    {
      "cell_type": "markdown",
      "source": [
        "list는 다양한 타입을 함께 포함할 수 있다."
      ],
      "metadata": {
        "id": "Ro1UyDviusgx"
      }
    },
    {
      "cell_type": "code",
      "source": [
        "l_val3 = [10,'python', 80.5, True]\n",
        "l_val3"
      ],
      "metadata": {
        "colab": {
          "base_uri": "https://localhost:8080/"
        },
        "id": "soOuS5jOvghJ",
        "outputId": "451c961a-0a49-4bac-af52-f53086c3447d"
      },
      "execution_count": null,
      "outputs": [
        {
          "output_type": "execute_result",
          "data": {
            "text/plain": [
              "[10, 'python', 80.5, True]"
            ]
          },
          "metadata": {},
          "execution_count": 90
        }
      ]
    },
    {
      "cell_type": "code",
      "source": [
        "l_val3= [[10,20], (1,2,3),{100, 200}]\n",
        "l_val3"
      ],
      "metadata": {
        "colab": {
          "base_uri": "https://localhost:8080/"
        },
        "id": "VPoiZywzv2xR",
        "outputId": "28c167a5-2ed7-4af0-a2aa-5197d0d781cf"
      },
      "execution_count": null,
      "outputs": [
        {
          "output_type": "execute_result",
          "data": {
            "text/plain": [
              "[[10, 20], (1, 2, 3), {100, 200}]"
            ]
          },
          "metadata": {},
          "execution_count": 91
        }
      ]
    },
    {
      "cell_type": "markdown",
      "source": [
        "list는 (+)연산자를 사용하여 연결하기를 할 수 있다."
      ],
      "metadata": {
        "id": "bHwPaPZLwL5R"
      }
    },
    {
      "cell_type": "code",
      "source": [
        "l_val4 = [1,2]\n",
        "l_val4 + l_val4"
      ],
      "metadata": {
        "colab": {
          "base_uri": "https://localhost:8080/"
        },
        "id": "-k9Kom4Cwe24",
        "outputId": "4acf0e66-9cbc-44ff-b667-754bf2d9cbff"
      },
      "execution_count": null,
      "outputs": [
        {
          "output_type": "execute_result",
          "data": {
            "text/plain": [
              "[1, 2, 1, 2]"
            ]
          },
          "metadata": {},
          "execution_count": 92
        }
      ]
    },
    {
      "cell_type": "code",
      "source": [
        "l_val4 + 3"
      ],
      "metadata": {
        "colab": {
          "base_uri": "https://localhost:8080/",
          "height": 171
        },
        "id": "ZnnsqgNtwnGJ",
        "outputId": "c49a6537-7d9a-4387-db32-bb3dea779ace"
      },
      "execution_count": null,
      "outputs": [
        {
          "output_type": "error",
          "ename": "TypeError",
          "evalue": "ignored",
          "traceback": [
            "\u001b[0;31m---------------------------------------------------------------------------\u001b[0m",
            "\u001b[0;31mTypeError\u001b[0m                                 Traceback (most recent call last)",
            "\u001b[0;32m<ipython-input-93-6d925cf7cbbb>\u001b[0m in \u001b[0;36m<cell line: 1>\u001b[0;34m()\u001b[0m\n\u001b[0;32m----> 1\u001b[0;31m \u001b[0ml_val4\u001b[0m \u001b[0;34m+\u001b[0m \u001b[0;36m3\u001b[0m\u001b[0;34m\u001b[0m\u001b[0;34m\u001b[0m\u001b[0m\n\u001b[0m",
            "\u001b[0;31mTypeError\u001b[0m: can only concatenate list (not \"int\") to list"
          ]
        }
      ]
    },
    {
      "cell_type": "markdown",
      "source": [
        "list는 (*)연산자를 사용하여 반복하기를 할 수 있다."
      ],
      "metadata": {
        "id": "qWyRjGOHw6Aa"
      }
    },
    {
      "cell_type": "code",
      "source": [
        "l_val4 * 3"
      ],
      "metadata": {
        "colab": {
          "base_uri": "https://localhost:8080/"
        },
        "id": "FFvCV46Iww1Q",
        "outputId": "620fdc8a-d60a-41fe-f5e9-e8486a696eae"
      },
      "execution_count": null,
      "outputs": [
        {
          "output_type": "execute_result",
          "data": {
            "text/plain": [
              "[1, 2, 1, 2, 1, 2]"
            ]
          },
          "metadata": {},
          "execution_count": 94
        }
      ]
    },
    {
      "cell_type": "markdown",
      "source": [
        "list에 특정값이 있는지 멤버 검사를 할 수 있다."
      ],
      "metadata": {
        "id": "XbYdaslv0OUb"
      }
    },
    {
      "cell_type": "code",
      "source": [
        "2 in l_val4"
      ],
      "metadata": {
        "colab": {
          "base_uri": "https://localhost:8080/"
        },
        "id": "g6zqW1-zxEAa",
        "outputId": "42177ba0-f8ff-4884-8bb4-802c7a4f3b4b"
      },
      "execution_count": null,
      "outputs": [
        {
          "output_type": "execute_result",
          "data": {
            "text/plain": [
              "True"
            ]
          },
          "metadata": {},
          "execution_count": 96
        }
      ]
    },
    {
      "cell_type": "code",
      "source": [
        "5 in l_val4"
      ],
      "metadata": {
        "colab": {
          "base_uri": "https://localhost:8080/"
        },
        "id": "pR8tV8zm0X9n",
        "outputId": "1100804b-6396-40e1-d1aa-1c6114015afa"
      },
      "execution_count": null,
      "outputs": [
        {
          "output_type": "execute_result",
          "data": {
            "text/plain": [
              "False"
            ]
          },
          "metadata": {},
          "execution_count": 97
        }
      ]
    },
    {
      "cell_type": "markdown",
      "source": [
        "list는 mutable이므로 요소들을 변경할 수 있다."
      ],
      "metadata": {
        "id": "kl4TS7Zb0bmX"
      }
    },
    {
      "cell_type": "code",
      "source": [
        "l_val5=['apple', 'banana', 100, 200]\n",
        "print(l_val5[0:2] )\n",
        "l_val5[0:2] = [1, 2]  # 지정한 범위의 요소를 [1, 2]로 변경한다.\n",
        "print(l_val5 )"
      ],
      "metadata": {
        "colab": {
          "base_uri": "https://localhost:8080/"
        },
        "id": "dCkHzWxa0vtP",
        "outputId": "d6c37410-a454-4d45-edd1-7a6bdd672696"
      },
      "execution_count": null,
      "outputs": [
        {
          "output_type": "stream",
          "name": "stdout",
          "text": [
            "['apple', 'banana']\n",
            "[1, 2, 100, 200]\n"
          ]
        }
      ]
    },
    {
      "cell_type": "code",
      "source": [
        "l_val5[0:2] = [50] # 크기가 달라도 된다.\n",
        "l_val5"
      ],
      "metadata": {
        "colab": {
          "base_uri": "https://localhost:8080/"
        },
        "id": "BlzjsjtO1kYA",
        "outputId": "3dfbe633-93d5-4829-a002-d845d7d8d914"
      },
      "execution_count": null,
      "outputs": [
        {
          "output_type": "execute_result",
          "data": {
            "text/plain": [
              "[50, 100, 200]"
            ]
          },
          "metadata": {},
          "execution_count": 108
        }
      ]
    },
    {
      "cell_type": "code",
      "source": [
        "l_val5[0:1]=[300,400]  #[start:end:step] slicing,  [index] indexing\n",
        "l_val5"
      ],
      "metadata": {
        "colab": {
          "base_uri": "https://localhost:8080/"
        },
        "id": "pUA1GpYN1wQO",
        "outputId": "c2dbd4ac-d990-4830-a288-58fb0d2864d8"
      },
      "execution_count": null,
      "outputs": [
        {
          "output_type": "execute_result",
          "data": {
            "text/plain": [
              "[300, 400, 100, 200]"
            ]
          },
          "metadata": {},
          "execution_count": 109
        }
      ]
    },
    {
      "cell_type": "markdown",
      "source": [
        "list의 일부 요소를 삭제할 수 있다."
      ],
      "metadata": {
        "id": "3JJdv3ep2_eO"
      }
    },
    {
      "cell_type": "code",
      "source": [
        "l_val6=['apple', 'banana', 100, 200]\n",
        "l_val6"
      ],
      "metadata": {
        "colab": {
          "base_uri": "https://localhost:8080/"
        },
        "id": "3mDMZSMK2cGe",
        "outputId": "2f1b2580-5b59-47b5-9da5-ffa42c167340"
      },
      "execution_count": null,
      "outputs": [
        {
          "output_type": "execute_result",
          "data": {
            "text/plain": [
              "['apple', 'banana', 100, 200]"
            ]
          },
          "metadata": {},
          "execution_count": 110
        }
      ]
    },
    {
      "cell_type": "code",
      "source": [
        "l_val6[0:2] = [] # 요소 2개를 삭제한다.\n",
        "l_val6"
      ],
      "metadata": {
        "colab": {
          "base_uri": "https://localhost:8080/"
        },
        "id": "HkE9sLF33GNh",
        "outputId": "8447d428-1f4a-4f25-986a-601a8dd482ef"
      },
      "execution_count": null,
      "outputs": [
        {
          "output_type": "execute_result",
          "data": {
            "text/plain": [
              "[100, 200]"
            ]
          },
          "metadata": {},
          "execution_count": 111
        }
      ]
    },
    {
      "cell_type": "code",
      "source": [
        "l_val6=['apple', 'banana', 100, 200]\n",
        "del l_val6[0:2] #del을 이용해서 요소를 삭제할 수 있다.\n",
        "l_val6"
      ],
      "metadata": {
        "colab": {
          "base_uri": "https://localhost:8080/"
        },
        "id": "oAbXb7Uc3Wvl",
        "outputId": "a561dff5-2cf2-4968-c46a-835cc6f3a790"
      },
      "execution_count": null,
      "outputs": [
        {
          "output_type": "execute_result",
          "data": {
            "text/plain": [
              "[100, 200]"
            ]
          },
          "metadata": {},
          "execution_count": 112
        }
      ]
    },
    {
      "cell_type": "markdown",
      "source": [
        "list에 요소를 추가할 수 있다."
      ],
      "metadata": {
        "id": "ZgkhhP684dUq"
      }
    },
    {
      "cell_type": "code",
      "source": [
        "l_val7=[3,6,9]\n",
        "l_val7"
      ],
      "metadata": {
        "colab": {
          "base_uri": "https://localhost:8080/"
        },
        "id": "0FsjiLAG3q0V",
        "outputId": "d8840b4c-ad50-475d-97a9-458ed83ea2b0"
      },
      "execution_count": null,
      "outputs": [
        {
          "output_type": "execute_result",
          "data": {
            "text/plain": [
              "[3, 6, 9]"
            ]
          },
          "metadata": {},
          "execution_count": 113
        }
      ]
    },
    {
      "cell_type": "code",
      "source": [
        "l_val7[1:1] = ['red', 'green'] #슬라이싱 [start:end:stop]\n",
        "l_val7"
      ],
      "metadata": {
        "colab": {
          "base_uri": "https://localhost:8080/"
        },
        "id": "nO8sbrkE4m7d",
        "outputId": "06ddb634-3e91-4bc4-a4f6-ae063674964c"
      },
      "execution_count": null,
      "outputs": [
        {
          "output_type": "execute_result",
          "data": {
            "text/plain": [
              "[3, 'red', 'green', 6, 9]"
            ]
          },
          "metadata": {},
          "execution_count": 114
        }
      ]
    },
    {
      "cell_type": "code",
      "source": [
        "l_val7=[3,6,9]\n",
        "l_val7[1] = ['red', 'green']  #인덱싱 [index]\n",
        "l_val7"
      ],
      "metadata": {
        "colab": {
          "base_uri": "https://localhost:8080/"
        },
        "id": "F5RrW3qG4wJ1",
        "outputId": "793ae5d2-830b-4573-dda2-b6788eab50e1"
      },
      "execution_count": null,
      "outputs": [
        {
          "output_type": "execute_result",
          "data": {
            "text/plain": [
              "[3, ['red', 'green'], 9]"
            ]
          },
          "metadata": {},
          "execution_count": 115
        }
      ]
    },
    {
      "cell_type": "markdown",
      "source": [
        "list에서 확장슬라이싱을 사용할때는 왼쪽과 오른쪽 요소 개수가 같아야 한다."
      ],
      "metadata": {
        "id": "vOHutnbJ5ahe"
      }
    },
    {
      "cell_type": "code",
      "source": [
        "l_val8 = [2,4,6,8]\n",
        "l_val8"
      ],
      "metadata": {
        "colab": {
          "base_uri": "https://localhost:8080/"
        },
        "id": "zeX9Ae7Q5BnX",
        "outputId": "96aeeb25-98f3-4a43-da49-48c0157386dd"
      },
      "execution_count": null,
      "outputs": [
        {
          "output_type": "execute_result",
          "data": {
            "text/plain": [
              "[2, 4, 6, 8]"
            ]
          },
          "metadata": {},
          "execution_count": 116
        }
      ]
    },
    {
      "cell_type": "code",
      "source": [
        "l_val8[::1] = [-1, -2, -3, -4]\n",
        "l_val8"
      ],
      "metadata": {
        "colab": {
          "base_uri": "https://localhost:8080/"
        },
        "id": "mKa6z4Jv5nTU",
        "outputId": "f0682799-c4d2-48b3-d955-106074765417"
      },
      "execution_count": null,
      "outputs": [
        {
          "output_type": "execute_result",
          "data": {
            "text/plain": [
              "[-1, -2, -3, -4]"
            ]
          },
          "metadata": {},
          "execution_count": 118
        }
      ]
    },
    {
      "cell_type": "code",
      "source": [
        "# 왼쪽의 갯수와 오른쪽의 갯수가 다르므로 오류발생\n",
        "# 왼쪽의 l_val8[::2]결과는 [2,6]개의요소이고 오른쪽은 4개의 요소이다.\n",
        "l_val8 = [2,4,6,8]\n",
        "l_val8[::2]=[-1, -2, -3, -4]"
      ],
      "metadata": {
        "colab": {
          "base_uri": "https://localhost:8080/",
          "height": 189
        },
        "id": "f1FQ6WzU5srt",
        "outputId": "7ccde8ad-cb3a-4de5-fe8b-500f29fb864f"
      },
      "execution_count": null,
      "outputs": [
        {
          "output_type": "error",
          "ename": "ValueError",
          "evalue": "ignored",
          "traceback": [
            "\u001b[0;31m---------------------------------------------------------------------------\u001b[0m",
            "\u001b[0;31mValueError\u001b[0m                                Traceback (most recent call last)",
            "\u001b[0;32m<ipython-input-121-6bc1ff9f3d16>\u001b[0m in \u001b[0;36m<cell line: 2>\u001b[0;34m()\u001b[0m\n\u001b[1;32m      1\u001b[0m \u001b[0ml_val8\u001b[0m \u001b[0;34m=\u001b[0m \u001b[0;34m[\u001b[0m\u001b[0;36m2\u001b[0m\u001b[0;34m,\u001b[0m\u001b[0;36m4\u001b[0m\u001b[0;34m,\u001b[0m\u001b[0;36m6\u001b[0m\u001b[0;34m,\u001b[0m\u001b[0;36m8\u001b[0m\u001b[0;34m]\u001b[0m\u001b[0;34m\u001b[0m\u001b[0;34m\u001b[0m\u001b[0m\n\u001b[0;32m----> 2\u001b[0;31m \u001b[0ml_val8\u001b[0m\u001b[0;34m[\u001b[0m\u001b[0;34m:\u001b[0m\u001b[0;34m:\u001b[0m\u001b[0;36m2\u001b[0m\u001b[0;34m]\u001b[0m\u001b[0;34m=\u001b[0m\u001b[0;34m[\u001b[0m\u001b[0;34m-\u001b[0m\u001b[0;36m1\u001b[0m\u001b[0;34m,\u001b[0m \u001b[0;34m-\u001b[0m\u001b[0;36m2\u001b[0m\u001b[0;34m,\u001b[0m \u001b[0;34m-\u001b[0m\u001b[0;36m3\u001b[0m\u001b[0;34m,\u001b[0m \u001b[0;34m-\u001b[0m\u001b[0;36m4\u001b[0m\u001b[0;34m]\u001b[0m\u001b[0;34m\u001b[0m\u001b[0;34m\u001b[0m\u001b[0m\n\u001b[0m",
            "\u001b[0;31mValueError\u001b[0m: attempt to assign sequence of size 4 to extended slice of size 2"
          ]
        }
      ]
    },
    {
      "cell_type": "markdown",
      "source": [
        "list는 한 변수에서 데이터를 각각 꺼내 오는 언팩킹(unpacking)지원을 한다."
      ],
      "metadata": {
        "id": "F2wwx6XB9wyb"
      }
    },
    {
      "cell_type": "markdown",
      "source": [
        "```javascript\n",
        "const fruits = ['apple', 'mango', 'grape'];\n",
        "\n",
        "//구조분해할당(destructing)\n",
        "// 앞에서부터 순차적으로 변수 선언 가능\n",
        "const [zero, one, two] = fruits;\n",
        "\n",
        "//Rest Operator(나머지 매개변수)\n",
        "const [a, ...b] = frutis;\n",
        "\n",
        "// Spread Operator(전개 구문)\n",
        "let box = [...fruits, 'banana']\n",
        "\n",
        "```\n"
      ],
      "metadata": {
        "id": "AAejcsBX796V"
      }
    },
    {
      "cell_type": "code",
      "source": [
        "l_val9 =['foo','bar', 4, 5 ]\n",
        "l_val9"
      ],
      "metadata": {
        "colab": {
          "base_uri": "https://localhost:8080/"
        },
        "id": "jtq9rWTR5-qn",
        "outputId": "e57794bb-aa31-45f1-bfe0-56d313e15cc1"
      },
      "execution_count": null,
      "outputs": [
        {
          "output_type": "execute_result",
          "data": {
            "text/plain": [
              "['foo', 'bar', 4, 5]"
            ]
          },
          "metadata": {},
          "execution_count": 122
        }
      ]
    },
    {
      "cell_type": "code",
      "source": [
        "x,y,z,w = l_val9\n",
        "print(x,y,z,w)"
      ],
      "metadata": {
        "colab": {
          "base_uri": "https://localhost:8080/"
        },
        "id": "q-LlP8F9-Gdz",
        "outputId": "122e8b18-2ca9-4fcf-e1ad-91cf841b9e78"
      },
      "execution_count": null,
      "outputs": [
        {
          "output_type": "stream",
          "name": "stdout",
          "text": [
            "foo bar 4 5\n"
          ]
        }
      ]
    },
    {
      "cell_type": "code",
      "source": [
        "x,y,_,_ = l_val9\n",
        "print(x,y)"
      ],
      "metadata": {
        "colab": {
          "base_uri": "https://localhost:8080/"
        },
        "id": "Jhm_CucN-LH8",
        "outputId": "efaa079a-2fa8-4674-cf6a-d362cee36f78"
      },
      "execution_count": null,
      "outputs": [
        {
          "output_type": "stream",
          "name": "stdout",
          "text": [
            "foo bar\n"
          ]
        }
      ]
    },
    {
      "cell_type": "code",
      "source": [
        "_,_,x,y= l_val9\n",
        "print(x,y)"
      ],
      "metadata": {
        "colab": {
          "base_uri": "https://localhost:8080/"
        },
        "id": "90m5Qiwk-eyy",
        "outputId": "295aa22f-47f9-4911-d51e-01c9ffe7308a"
      },
      "execution_count": null,
      "outputs": [
        {
          "output_type": "stream",
          "name": "stdout",
          "text": [
            "4 5\n"
          ]
        }
      ]
    },
    {
      "cell_type": "code",
      "source": [
        "x, y, *z = l_val9\n",
        "print(x)\n",
        "print(y)\n",
        "print(z)"
      ],
      "metadata": {
        "colab": {
          "base_uri": "https://localhost:8080/"
        },
        "id": "yXNOkU6P-mlS",
        "outputId": "ece4281b-980f-42de-91bf-5f6e401248e2"
      },
      "execution_count": null,
      "outputs": [
        {
          "output_type": "stream",
          "name": "stdout",
          "text": [
            "foo\n",
            "bar\n",
            "[4, 5]\n"
          ]
        }
      ]
    },
    {
      "cell_type": "code",
      "source": [
        "x, *y, z = l_val9\n",
        "print(x)\n",
        "print(y)\n",
        "print(z)"
      ],
      "metadata": {
        "colab": {
          "base_uri": "https://localhost:8080/"
        },
        "id": "aZJtkReQ-2La",
        "outputId": "bf749279-354e-4a7b-bd5b-fdac30b2a2ae"
      },
      "execution_count": null,
      "outputs": [
        {
          "output_type": "stream",
          "name": "stdout",
          "text": [
            "foo\n",
            "['bar', 4]\n",
            "5\n"
          ]
        }
      ]
    },
    {
      "cell_type": "code",
      "source": [
        "x, *y, *z = l_val9\n",
        "print(x)\n",
        "print(y)\n",
        "print(z)"
      ],
      "metadata": {
        "colab": {
          "base_uri": "https://localhost:8080/",
          "height": 136
        },
        "id": "mLBR9bEi_At7",
        "outputId": "b5cd7ab7-8375-4ed3-c6a1-84ed699e2c69"
      },
      "execution_count": null,
      "outputs": [
        {
          "output_type": "error",
          "ename": "SyntaxError",
          "evalue": "ignored",
          "traceback": [
            "\u001b[0;36m  File \u001b[0;32m\"<ipython-input-129-f80853a0c084>\"\u001b[0;36m, line \u001b[0;32m1\u001b[0m\n\u001b[0;31m    x, *y, *z = l_val9\u001b[0m\n\u001b[0m    ^\u001b[0m\n\u001b[0;31mSyntaxError\u001b[0m\u001b[0;31m:\u001b[0m multiple starred expressions in assignment\n"
          ]
        }
      ]
    },
    {
      "cell_type": "code",
      "source": [
        "print(dir(l_val9))"
      ],
      "metadata": {
        "colab": {
          "base_uri": "https://localhost:8080/"
        },
        "id": "yFQ44P9t_ODL",
        "outputId": "6ac19015-4a52-418b-9b33-1c646214594c"
      },
      "execution_count": null,
      "outputs": [
        {
          "output_type": "stream",
          "name": "stdout",
          "text": [
            "['__add__', '__class__', '__class_getitem__', '__contains__', '__delattr__', '__delitem__', '__dir__', '__doc__', '__eq__', '__format__', '__ge__', '__getattribute__', '__getitem__', '__gt__', '__hash__', '__iadd__', '__imul__', '__init__', '__init_subclass__', '__iter__', '__le__', '__len__', '__lt__', '__mul__', '__ne__', '__new__', '__reduce__', '__reduce_ex__', '__repr__', '__reversed__', '__rmul__', '__setattr__', '__setitem__', '__sizeof__', '__str__', '__subclasshook__', 'append', 'clear', 'copy', 'count', 'extend', 'index', 'insert', 'pop', 'remove', 'reverse', 'sort']\n"
          ]
        }
      ]
    },
    {
      "cell_type": "markdown",
      "source": [
        "### Tuple(튜플)\n",
        "- 변경이 불가능(immutable)한 순서(sequence)가 있는 자료형이다.\n",
        "- 튜플은  ()소괄호로 표현한다."
      ],
      "metadata": {
        "id": "McBcjW9kCqmE"
      }
    },
    {
      "cell_type": "code",
      "source": [
        "t=()\n",
        "t"
      ],
      "metadata": {
        "colab": {
          "base_uri": "https://localhost:8080/"
        },
        "id": "Wyf673TjCOrY",
        "outputId": "a0c84efc-be1b-4375-f75c-1e159ebe36b1"
      },
      "execution_count": null,
      "outputs": [
        {
          "output_type": "execute_result",
          "data": {
            "text/plain": [
              "()"
            ]
          },
          "metadata": {},
          "execution_count": 131
        }
      ]
    },
    {
      "cell_type": "markdown",
      "source": [
        "tuble은 값 사이에 콤마(,)를 구분하여 사용한다."
      ],
      "metadata": {
        "id": "CjGK7kkoC2VZ"
      }
    },
    {
      "cell_type": "code",
      "source": [
        "t_val=(10, 20, 30)\n",
        "t_val"
      ],
      "metadata": {
        "colab": {
          "base_uri": "https://localhost:8080/"
        },
        "id": "u_vABJ9yCw0b",
        "outputId": "5515fb06-9742-49d6-d123-a07dc56b55fb"
      },
      "execution_count": null,
      "outputs": [
        {
          "output_type": "execute_result",
          "data": {
            "text/plain": [
              "(10, 20, 30)"
            ]
          },
          "metadata": {},
          "execution_count": 132
        }
      ]
    },
    {
      "cell_type": "code",
      "source": [
        "t_val=10, 20, 30 # tuple은 괄호 없이도 표현 가능\n",
        "t_val"
      ],
      "metadata": {
        "colab": {
          "base_uri": "https://localhost:8080/"
        },
        "id": "GX-9__jdC7u6",
        "outputId": "910d1e3c-ac4f-4481-8e1a-283b5c968ae9"
      },
      "execution_count": null,
      "outputs": [
        {
          "output_type": "execute_result",
          "data": {
            "text/plain": [
              "(10, 20, 30)"
            ]
          },
          "metadata": {},
          "execution_count": 133
        }
      ]
    },
    {
      "cell_type": "code",
      "source": [
        "t_val2 = (1)\n",
        "print(t_val2)\n",
        "print(type(t_val2))"
      ],
      "metadata": {
        "colab": {
          "base_uri": "https://localhost:8080/"
        },
        "id": "yDOrFDM-DIDi",
        "outputId": "aeeb354f-2626-4033-ebda-82368cfcb118"
      },
      "execution_count": null,
      "outputs": [
        {
          "output_type": "stream",
          "name": "stdout",
          "text": [
            "1\n",
            "<class 'int'>\n"
          ]
        }
      ]
    },
    {
      "cell_type": "code",
      "source": [
        "# 요소가 한 개일 때는 반드시 쉼표(,)가 있어야 한다.\n",
        "# 괄호는 생략 할 수 있지만 쉼표(,)는 있어야 한다.\n",
        "# t_val2 = (1,)\n",
        "t_val2 = 1,\n",
        "print(t_val2)\n",
        "print(type(t_val2))"
      ],
      "metadata": {
        "colab": {
          "base_uri": "https://localhost:8080/"
        },
        "id": "21_E3-WqDmlN",
        "outputId": "7f9b0c5d-5915-492f-e887-6652bbba2de2"
      },
      "execution_count": null,
      "outputs": [
        {
          "output_type": "stream",
          "name": "stdout",
          "text": [
            "(1,)\n",
            "<class 'tuple'>\n"
          ]
        }
      ]
    },
    {
      "cell_type": "code",
      "source": [
        "t_val3 = (1, 2, 3)\n",
        "t_val3"
      ],
      "metadata": {
        "colab": {
          "base_uri": "https://localhost:8080/"
        },
        "id": "yHNXolm2Dosx",
        "outputId": "c41c0dfc-d2f6-4856-8316-7eaabfb1f126"
      },
      "execution_count": null,
      "outputs": [
        {
          "output_type": "execute_result",
          "data": {
            "text/plain": [
              "(1, 2, 3)"
            ]
          },
          "metadata": {},
          "execution_count": 138
        }
      ]
    },
    {
      "cell_type": "markdown",
      "source": [
        "tuple은 immutable이므로 한번 생성되면 요소를 변경할 수 없다."
      ],
      "metadata": {
        "id": "Sfm0KRDXEQD5"
      }
    },
    {
      "cell_type": "code",
      "source": [
        "t_val3[0] = 100\n",
        "t_val3"
      ],
      "metadata": {
        "colab": {
          "base_uri": "https://localhost:8080/",
          "height": 189
        },
        "id": "j6n87pBQEFcQ",
        "outputId": "e555dce5-1566-4498-a3c5-1a599c9be383"
      },
      "execution_count": null,
      "outputs": [
        {
          "output_type": "error",
          "ename": "TypeError",
          "evalue": "ignored",
          "traceback": [
            "\u001b[0;31m---------------------------------------------------------------------------\u001b[0m",
            "\u001b[0;31mTypeError\u001b[0m                                 Traceback (most recent call last)",
            "\u001b[0;32m<ipython-input-139-76991e44fb02>\u001b[0m in \u001b[0;36m<cell line: 1>\u001b[0;34m()\u001b[0m\n\u001b[0;32m----> 1\u001b[0;31m \u001b[0mt_val3\u001b[0m\u001b[0;34m[\u001b[0m\u001b[0;36m0\u001b[0m\u001b[0;34m]\u001b[0m \u001b[0;34m=\u001b[0m \u001b[0;36m100\u001b[0m\u001b[0;34m\u001b[0m\u001b[0;34m\u001b[0m\u001b[0m\n\u001b[0m\u001b[1;32m      2\u001b[0m \u001b[0mt_val3\u001b[0m\u001b[0;34m\u001b[0m\u001b[0;34m\u001b[0m\u001b[0m\n",
            "\u001b[0;31mTypeError\u001b[0m: 'tuple' object does not support item assignment"
          ]
        }
      ]
    },
    {
      "cell_type": "markdown",
      "source": [
        "tuple은 다양한 타입을 함께 포함할 수 있다."
      ],
      "metadata": {
        "id": "nzJ0kvX4EfrZ"
      }
    },
    {
      "cell_type": "code",
      "source": [
        "t_val4 = (10, 'python', 80.5, True)\n",
        "t_val4"
      ],
      "metadata": {
        "colab": {
          "base_uri": "https://localhost:8080/"
        },
        "id": "pMvBzY_TEIq4",
        "outputId": "97c0dc81-b4e3-4a2c-84bd-8ab5eb97d09a"
      },
      "execution_count": null,
      "outputs": [
        {
          "output_type": "execute_result",
          "data": {
            "text/plain": [
              "(10, 'python', 80.5, True)"
            ]
          },
          "metadata": {},
          "execution_count": 140
        }
      ]
    },
    {
      "cell_type": "markdown",
      "source": [
        "tuple은 인덱싱, 슬라이싱으로 각 요소에 접근할 수 있다."
      ],
      "metadata": {
        "id": "m29Nd5o3E3PY"
      }
    },
    {
      "cell_type": "code",
      "source": [
        "t_val5 = (5, 10, 15, 20, 25,30)\n",
        "t_val5"
      ],
      "metadata": {
        "colab": {
          "base_uri": "https://localhost:8080/"
        },
        "id": "jhfyfdivEnbQ",
        "outputId": "c478f3db-320f-4d60-c7ed-6a92ee6a190c"
      },
      "execution_count": null,
      "outputs": [
        {
          "output_type": "execute_result",
          "data": {
            "text/plain": [
              "(5, 10, 15, 20, 25, 30)"
            ]
          },
          "metadata": {},
          "execution_count": 141
        }
      ]
    },
    {
      "cell_type": "code",
      "source": [
        "t_val5[3]  # 인덱싱"
      ],
      "metadata": {
        "colab": {
          "base_uri": "https://localhost:8080/"
        },
        "id": "5-dbjf7fFBI5",
        "outputId": "d15cf113-22d1-4f6c-b1c2-570ffbe693b7"
      },
      "execution_count": null,
      "outputs": [
        {
          "output_type": "execute_result",
          "data": {
            "text/plain": [
              "20"
            ]
          },
          "metadata": {},
          "execution_count": 142
        }
      ]
    },
    {
      "cell_type": "code",
      "source": [
        "t_val5[-1] # 인덱싱"
      ],
      "metadata": {
        "colab": {
          "base_uri": "https://localhost:8080/"
        },
        "id": "6B1zB3PsFLn7",
        "outputId": "d5ab38e9-6dfc-45d1-ce9a-919f056d8027"
      },
      "execution_count": null,
      "outputs": [
        {
          "output_type": "execute_result",
          "data": {
            "text/plain": [
              "30"
            ]
          },
          "metadata": {},
          "execution_count": 143
        }
      ]
    },
    {
      "cell_type": "code",
      "source": [
        "t_val5[0:2] # 슬라이싱"
      ],
      "metadata": {
        "colab": {
          "base_uri": "https://localhost:8080/"
        },
        "id": "L4TZ4ha-FPo7",
        "outputId": "b511799f-2890-4b44-91ec-829d28aaf6d0"
      },
      "execution_count": null,
      "outputs": [
        {
          "output_type": "execute_result",
          "data": {
            "text/plain": [
              "(5, 10)"
            ]
          },
          "metadata": {},
          "execution_count": 144
        }
      ]
    },
    {
      "cell_type": "code",
      "source": [
        "t_val5[::2]# 확장 슬라이싱"
      ],
      "metadata": {
        "colab": {
          "base_uri": "https://localhost:8080/"
        },
        "id": "z1EGZiMyFWuc",
        "outputId": "01741e48-70b5-4309-ff5c-ce66db26644e"
      },
      "execution_count": null,
      "outputs": [
        {
          "output_type": "execute_result",
          "data": {
            "text/plain": [
              "(5, 15, 25)"
            ]
          },
          "metadata": {},
          "execution_count": 145
        }
      ]
    },
    {
      "cell_type": "markdown",
      "source": [
        "tuple은 (+)연산자를 사용하여 연결하기를 할 수 있다."
      ],
      "metadata": {
        "id": "ngOuLKGRFpEx"
      }
    },
    {
      "cell_type": "code",
      "source": [
        "t_val5 + t_val5  #연결하기"
      ],
      "metadata": {
        "colab": {
          "base_uri": "https://localhost:8080/"
        },
        "id": "ua93JaVRFZnP",
        "outputId": "4375b9e2-aaf8-4429-f378-bb18f2ef32f9"
      },
      "execution_count": null,
      "outputs": [
        {
          "output_type": "execute_result",
          "data": {
            "text/plain": [
              "(5, 10, 15, 20, 25, 30, 5, 10, 15, 20, 25, 30)"
            ]
          },
          "metadata": {},
          "execution_count": 146
        }
      ]
    },
    {
      "cell_type": "code",
      "source": [
        "t_val5 + [1,2,3]"
      ],
      "metadata": {
        "colab": {
          "base_uri": "https://localhost:8080/",
          "height": 171
        },
        "id": "1LwyUeO8FyLX",
        "outputId": "61e9e677-38c0-48d6-92de-c8f315a69746"
      },
      "execution_count": null,
      "outputs": [
        {
          "output_type": "error",
          "ename": "TypeError",
          "evalue": "ignored",
          "traceback": [
            "\u001b[0;31m---------------------------------------------------------------------------\u001b[0m",
            "\u001b[0;31mTypeError\u001b[0m                                 Traceback (most recent call last)",
            "\u001b[0;32m<ipython-input-147-783c2a874488>\u001b[0m in \u001b[0;36m<cell line: 1>\u001b[0;34m()\u001b[0m\n\u001b[0;32m----> 1\u001b[0;31m \u001b[0mt_val5\u001b[0m \u001b[0;34m+\u001b[0m \u001b[0;34m[\u001b[0m\u001b[0;36m1\u001b[0m\u001b[0;34m,\u001b[0m\u001b[0;36m2\u001b[0m\u001b[0;34m,\u001b[0m\u001b[0;36m3\u001b[0m\u001b[0;34m]\u001b[0m\u001b[0;34m\u001b[0m\u001b[0;34m\u001b[0m\u001b[0m\n\u001b[0m",
            "\u001b[0;31mTypeError\u001b[0m: can only concatenate tuple (not \"list\") to tuple"
          ]
        }
      ]
    },
    {
      "cell_type": "markdown",
      "source": [
        "tuple은 (*)연산자를 사용하여 반복하기를 할 수 있다."
      ],
      "metadata": {
        "id": "sotwi90mF7PT"
      }
    },
    {
      "cell_type": "code",
      "source": [
        "t_val5 * 3 # 반복하기"
      ],
      "metadata": {
        "colab": {
          "base_uri": "https://localhost:8080/"
        },
        "id": "WCF3Eb7yF4TY",
        "outputId": "6994b2a2-aa7c-4d4e-e3e3-ed5ab8c27a68"
      },
      "execution_count": null,
      "outputs": [
        {
          "output_type": "execute_result",
          "data": {
            "text/plain": [
              "(5, 10, 15, 20, 25, 30, 5, 10, 15, 20, 25, 30, 5, 10, 15, 20, 25, 30)"
            ]
          },
          "metadata": {},
          "execution_count": 148
        }
      ]
    },
    {
      "cell_type": "markdown",
      "source": [
        "tuple 은 in 연산자를 사용하여 멤버검사를 할 수 있다."
      ],
      "metadata": {
        "id": "ehXg4OMHGMb4"
      }
    },
    {
      "cell_type": "code",
      "source": [
        "5 in t_val5 #멤버검사"
      ],
      "metadata": {
        "colab": {
          "base_uri": "https://localhost:8080/"
        },
        "id": "ZUfn3QJeGEyq",
        "outputId": "5c0e497e-8c58-4f28-e428-8824224fed62"
      },
      "execution_count": null,
      "outputs": [
        {
          "output_type": "execute_result",
          "data": {
            "text/plain": [
              "True"
            ]
          },
          "metadata": {},
          "execution_count": 150
        }
      ]
    },
    {
      "cell_type": "code",
      "source": [
        "8 in t_val5 #멤버검사"
      ],
      "metadata": {
        "colab": {
          "base_uri": "https://localhost:8080/"
        },
        "id": "JkPyWzHVGIHn",
        "outputId": "42f7b6d1-3627-4cf2-a768-ad156334265b"
      },
      "execution_count": null,
      "outputs": [
        {
          "output_type": "execute_result",
          "data": {
            "text/plain": [
              "False"
            ]
          },
          "metadata": {},
          "execution_count": 151
        }
      ]
    },
    {
      "cell_type": "markdown",
      "source": [
        "tuple은 검색에 관련된 count(), index( )메서드 2개를 제공한다."
      ],
      "metadata": {
        "id": "F4SYLqe2GwIg"
      }
    },
    {
      "cell_type": "code",
      "source": [
        "print(dir(tuple))"
      ],
      "metadata": {
        "colab": {
          "base_uri": "https://localhost:8080/"
        },
        "id": "vWljHVYyGX4P",
        "outputId": "ec867965-0837-4713-aaa2-af456cfa21b6"
      },
      "execution_count": null,
      "outputs": [
        {
          "output_type": "stream",
          "name": "stdout",
          "text": [
            "['__add__', '__class__', '__class_getitem__', '__contains__', '__delattr__', '__dir__', '__doc__', '__eq__', '__format__', '__ge__', '__getattribute__', '__getitem__', '__getnewargs__', '__gt__', '__hash__', '__init__', '__init_subclass__', '__iter__', '__le__', '__len__', '__lt__', '__mul__', '__ne__', '__new__', '__reduce__', '__reduce_ex__', '__repr__', '__rmul__', '__setattr__', '__sizeof__', '__str__', '__subclasshook__', 'count', 'index']\n"
          ]
        }
      ]
    },
    {
      "cell_type": "code",
      "source": [
        "t_val6 = (1,2,3,2,2,3)\n",
        "t_val6"
      ],
      "metadata": {
        "colab": {
          "base_uri": "https://localhost:8080/"
        },
        "id": "UuV96mOsG7JI",
        "outputId": "bc6f8ae5-779d-4978-afd7-41a43fce4f2b"
      },
      "execution_count": null,
      "outputs": [
        {
          "output_type": "execute_result",
          "data": {
            "text/plain": [
              "(1, 2, 3, 2, 2, 3)"
            ]
          },
          "metadata": {},
          "execution_count": 153
        }
      ]
    },
    {
      "cell_type": "code",
      "source": [
        "len(t_val6) # 요소 전체 갯수"
      ],
      "metadata": {
        "colab": {
          "base_uri": "https://localhost:8080/"
        },
        "id": "mrKI8Rq2HE_M",
        "outputId": "36748b83-b128-40cc-9037-6bfcddac689e"
      },
      "execution_count": null,
      "outputs": [
        {
          "output_type": "execute_result",
          "data": {
            "text/plain": [
              "6"
            ]
          },
          "metadata": {},
          "execution_count": 154
        }
      ]
    },
    {
      "cell_type": "code",
      "source": [
        "t_val6.count(2) # 2요소의 갯수 리턴"
      ],
      "metadata": {
        "colab": {
          "base_uri": "https://localhost:8080/"
        },
        "id": "FNJmPBowHGyI",
        "outputId": "d748f549-bd71-4a89-a33d-e8191b7a9ce1"
      },
      "execution_count": null,
      "outputs": [
        {
          "output_type": "execute_result",
          "data": {
            "text/plain": [
              "3"
            ]
          },
          "metadata": {},
          "execution_count": 158
        }
      ]
    },
    {
      "cell_type": "code",
      "source": [
        "t_val6.index(3) # 3요소를 0인덱스부터 시작"
      ],
      "metadata": {
        "colab": {
          "base_uri": "https://localhost:8080/"
        },
        "id": "7GY8jsRjHNBv",
        "outputId": "774f5d5a-2b31-4754-a144-51f40c79fec1"
      },
      "execution_count": null,
      "outputs": [
        {
          "output_type": "execute_result",
          "data": {
            "text/plain": [
              "2"
            ]
          },
          "metadata": {},
          "execution_count": 164
        }
      ]
    },
    {
      "cell_type": "code",
      "source": [
        "t_val6.index(3, 4) #3요소를 4인덱스부터 시작"
      ],
      "metadata": {
        "id": "DvLc0zHZHgSH"
      },
      "execution_count": null,
      "outputs": []
    },
    {
      "cell_type": "markdown",
      "source": [
        "tuple은 중첩해서 사용할 수 있다."
      ],
      "metadata": {
        "id": "E2cNaDS0fDVQ"
      }
    },
    {
      "cell_type": "code",
      "source": [
        "t_val7 = ('python', (1,2,3), [4,5])\n",
        "t_val7"
      ],
      "metadata": {
        "colab": {
          "base_uri": "https://localhost:8080/"
        },
        "id": "MRFqFDAEe7eZ",
        "outputId": "4c028560-f263-4c29-c046-9940c5095632"
      },
      "execution_count": null,
      "outputs": [
        {
          "output_type": "execute_result",
          "data": {
            "text/plain": [
              "('python', (1, 2, 3), [4, 5])"
            ]
          },
          "metadata": {},
          "execution_count": 2
        }
      ]
    },
    {
      "cell_type": "markdown",
      "source": [
        "tuple은 한 변수에 요소를 각각 꺼내오는 언패킹(unpacking)을 지원한다."
      ],
      "metadata": {
        "id": "BP-3JWT7fZjL"
      }
    },
    {
      "cell_type": "code",
      "source": [
        "t_val8 = (10, 20, 30)\n",
        "t_val8"
      ],
      "metadata": {
        "colab": {
          "base_uri": "https://localhost:8080/"
        },
        "id": "7UKhSlpmfPn-",
        "outputId": "3f89e5a5-4233-455d-d879-6b83602651b8"
      },
      "execution_count": null,
      "outputs": [
        {
          "output_type": "execute_result",
          "data": {
            "text/plain": [
              "(10, 20, 30)"
            ]
          },
          "metadata": {},
          "execution_count": 3
        }
      ]
    },
    {
      "cell_type": "code",
      "source": [
        "l, m, n = t_val8\n",
        "print(l)\n",
        "print(m)\n",
        "print(n)"
      ],
      "metadata": {
        "colab": {
          "base_uri": "https://localhost:8080/"
        },
        "id": "7rwhNiXQfiWO",
        "outputId": "df36c6f2-38d5-4f1c-d65d-9e1e37bb504f"
      },
      "execution_count": null,
      "outputs": [
        {
          "output_type": "stream",
          "name": "stdout",
          "text": [
            "10\n",
            "20\n",
            "30\n"
          ]
        }
      ]
    },
    {
      "cell_type": "code",
      "source": [
        "t_val9 = ((1,2), (3,4))\n",
        "t_val9"
      ],
      "metadata": {
        "colab": {
          "base_uri": "https://localhost:8080/"
        },
        "id": "TtE3jHiwfrdC",
        "outputId": "75f29b9a-692e-4e0c-8e1d-733cbd33db64"
      },
      "execution_count": null,
      "outputs": [
        {
          "output_type": "execute_result",
          "data": {
            "text/plain": [
              "((1, 2), (3, 4))"
            ]
          },
          "metadata": {},
          "execution_count": 5
        }
      ]
    },
    {
      "cell_type": "code",
      "source": [
        "x, y = t_val9\n",
        "print(x)\n",
        "print(y)"
      ],
      "metadata": {
        "colab": {
          "base_uri": "https://localhost:8080/"
        },
        "id": "r95HQjY-f462",
        "outputId": "dc6044b4-c258-4c07-e605-d2e2c95da74d"
      },
      "execution_count": null,
      "outputs": [
        {
          "output_type": "stream",
          "name": "stdout",
          "text": [
            "(1, 2)\n",
            "(3, 4)\n"
          ]
        }
      ]
    },
    {
      "cell_type": "code",
      "source": [
        "(x1, y1), (x2, y2) = t_val9\n",
        "print(x1)\n",
        "print(y1)\n",
        "print(x2)\n",
        "print(y2)"
      ],
      "metadata": {
        "colab": {
          "base_uri": "https://localhost:8080/"
        },
        "id": "xA-cfFDQgB7P",
        "outputId": "306363eb-86a6-4d60-c22c-c227fa7991b5"
      },
      "execution_count": null,
      "outputs": [
        {
          "output_type": "stream",
          "name": "stdout",
          "text": [
            "1\n",
            "2\n",
            "3\n",
            "4\n"
          ]
        }
      ]
    },
    {
      "cell_type": "code",
      "source": [
        "t_val10 = (1, 2, 3, 4, 5, 6, 7, 8, 9, 10)\n",
        "t_val10"
      ],
      "metadata": {
        "colab": {
          "base_uri": "https://localhost:8080/"
        },
        "id": "WBQ7V1YIgM4f",
        "outputId": "f779c616-932f-46f9-f0f9-086fe7c1b7d4"
      },
      "execution_count": null,
      "outputs": [
        {
          "output_type": "execute_result",
          "data": {
            "text/plain": [
              "(1, 2, 3, 4, 5, 6, 7, 8, 9, 10)"
            ]
          },
          "metadata": {},
          "execution_count": 9
        }
      ]
    },
    {
      "cell_type": "code",
      "source": [
        "a, *b = t_val10\n",
        "print(a)\n",
        "print(b)\n",
        "print(type(b))"
      ],
      "metadata": {
        "colab": {
          "base_uri": "https://localhost:8080/"
        },
        "id": "pd2KWrnogu3m",
        "outputId": "018baf6e-ec8e-4178-d58d-6c580d3c1e24"
      },
      "execution_count": null,
      "outputs": [
        {
          "output_type": "stream",
          "name": "stdout",
          "text": [
            "1\n",
            "[2, 3, 4, 5, 6, 7, 8, 9, 10]\n",
            "<class 'list'>\n"
          ]
        }
      ]
    },
    {
      "cell_type": "code",
      "source": [
        "a, *b, c = t_val10\n",
        "print(a)\n",
        "print(b)\n",
        "print(c)"
      ],
      "metadata": {
        "colab": {
          "base_uri": "https://localhost:8080/"
        },
        "id": "YMFeGv3Xg8im",
        "outputId": "958c275f-788a-46b8-94fb-90bc5c140b7a"
      },
      "execution_count": null,
      "outputs": [
        {
          "output_type": "stream",
          "name": "stdout",
          "text": [
            "1\n",
            "[2, 3, 4, 5, 6, 7, 8, 9]\n",
            "10\n"
          ]
        }
      ]
    },
    {
      "cell_type": "code",
      "source": [
        "*a, b, c = t_val10\n",
        "print(a)\n",
        "print(b)\n",
        "print(c)"
      ],
      "metadata": {
        "colab": {
          "base_uri": "https://localhost:8080/"
        },
        "id": "nsgjfz_VhUaF",
        "outputId": "107fdea5-cc42-49d0-c604-05dc91e77e46"
      },
      "execution_count": null,
      "outputs": [
        {
          "output_type": "stream",
          "name": "stdout",
          "text": [
            "[1, 2, 3, 4, 5, 6, 7, 8]\n",
            "9\n",
            "10\n"
          ]
        }
      ]
    },
    {
      "cell_type": "markdown",
      "source": [
        "## tuple과 list 비교\n",
        "- 공통점\n",
        "  - 임의의 객체를 저장할 수 있다는 것과 순서(sequence) 자료형이다.\n",
        "- 차이점\n",
        "  - tuple은 변경 불가능(immutable)한 자료형이다.\n",
        "  - list은 변경 가능(mutable)한 자료형이다."
      ],
      "metadata": {
        "id": "KYmZkzPrhyaF"
      }
    },
    {
      "cell_type": "markdown",
      "source": [
        "tuple을 list( )함수를 이용해서 list 자료형으로 생성할 수 있다."
      ],
      "metadata": {
        "id": "HzRafT6kiFbe"
      }
    },
    {
      "cell_type": "code",
      "source": [
        "t_data = (1, 2, 3)\n",
        "print(t_data)\n",
        "print(type(t_data))"
      ],
      "metadata": {
        "colab": {
          "base_uri": "https://localhost:8080/"
        },
        "id": "eAn8d7gehb21",
        "outputId": "2621e93e-41da-4d91-a049-ded18137cfd2"
      },
      "execution_count": null,
      "outputs": [
        {
          "output_type": "stream",
          "name": "stdout",
          "text": [
            "(1, 2, 3)\n",
            "<class 'tuple'>\n"
          ]
        }
      ]
    },
    {
      "cell_type": "code",
      "source": [
        "l_data = list(t_data)\n",
        "print(l_data)\n",
        "print(type(l_data))"
      ],
      "metadata": {
        "colab": {
          "base_uri": "https://localhost:8080/"
        },
        "id": "u46ME8aTiPV9",
        "outputId": "d9bf4b47-5165-426c-862e-d969d669d39f"
      },
      "execution_count": null,
      "outputs": [
        {
          "output_type": "stream",
          "name": "stdout",
          "text": [
            "[1, 2, 3]\n",
            "<class 'list'>\n"
          ]
        }
      ]
    },
    {
      "cell_type": "markdown",
      "source": [
        "str 자료형의 요소를  list( )함수를 이용해서 list자료형으로 생성할 수 있다."
      ],
      "metadata": {
        "id": "KVrPFTseipF9"
      }
    },
    {
      "cell_type": "code",
      "source": [
        "s_data = 'python'\n",
        "print(s_data)\n",
        "print(type(s_data))"
      ],
      "metadata": {
        "colab": {
          "base_uri": "https://localhost:8080/"
        },
        "id": "hYO2Ztkoigel",
        "outputId": "d6cb589b-1ac8-465e-e9c0-8c72393c2732"
      },
      "execution_count": null,
      "outputs": [
        {
          "output_type": "stream",
          "name": "stdout",
          "text": [
            "python\n",
            "<class 'str'>\n"
          ]
        }
      ]
    },
    {
      "cell_type": "code",
      "source": [
        "l_arg = list(s_data)\n",
        "print(l_arg)\n",
        "print(type(l_arg))"
      ],
      "metadata": {
        "colab": {
          "base_uri": "https://localhost:8080/"
        },
        "id": "IqV5i6Gii0K2",
        "outputId": "07fe9141-d52c-492e-82c1-3d39192e9493"
      },
      "execution_count": null,
      "outputs": [
        {
          "output_type": "stream",
          "name": "stdout",
          "text": [
            "['p', 'y', 't', 'h', 'o', 'n']\n",
            "<class 'list'>\n"
          ]
        }
      ]
    },
    {
      "cell_type": "markdown",
      "source": [
        "str 자료형의 요소를 tuple( )함수를 이용해서 tuple자료형으로 생성할 수 있다."
      ],
      "metadata": {
        "id": "yhoo5zoejmm_"
      }
    },
    {
      "cell_type": "code",
      "source": [
        "t_arg = tuple(s_data)\n",
        "print(t_arg)\n",
        "print(type(t_arg))"
      ],
      "metadata": {
        "colab": {
          "base_uri": "https://localhost:8080/"
        },
        "id": "J0KJ52VUjYl9",
        "outputId": "9e74592d-3a57-43c1-9f01-512bed63c0d6"
      },
      "execution_count": null,
      "outputs": [
        {
          "output_type": "stream",
          "name": "stdout",
          "text": [
            "('p', 'y', 't', 'h', 'o', 'n')\n",
            "<class 'tuple'>\n"
          ]
        }
      ]
    },
    {
      "cell_type": "markdown",
      "source": [
        "# 집합(sets)\n",
        "- 집합은 여러 값을 순서가 없고 중복없이 모아 놓은 자료형이다.\n",
        "- python에서는 set과 fronzenset 두가지 집합 자료형을 제공한다.\n",
        "- set은 변경 가능한 집합이고, frozenset은 변경 불가능한 자료형이다.\n",
        "- set은 { }중괄호로 사용할 수 없으나 set( )으로 표현한다."
      ],
      "metadata": {
        "id": "4kaik4r0kqMc"
      }
    },
    {
      "cell_type": "code",
      "source": [
        "s = { }       # [ ]=list( ), (  )=tuple( ), { }=dict{ }\n",
        "print(s)\n",
        "print(type(s))"
      ],
      "metadata": {
        "colab": {
          "base_uri": "https://localhost:8080/"
        },
        "id": "U3PLPcFWkBYs",
        "outputId": "7eabdf87-6914-4820-e249-2eec21660287"
      },
      "execution_count": null,
      "outputs": [
        {
          "output_type": "stream",
          "name": "stdout",
          "text": [
            "{}\n",
            "<class 'dict'>\n"
          ]
        }
      ]
    },
    {
      "cell_type": "code",
      "source": [
        "s = set( )\n",
        "print(s)\n",
        "print(type(s))"
      ],
      "metadata": {
        "colab": {
          "base_uri": "https://localhost:8080/"
        },
        "id": "nNpJ4QKQlaz0",
        "outputId": "45f95b86-476d-469d-a83d-e3c5e76fa2e8"
      },
      "execution_count": null,
      "outputs": [
        {
          "output_type": "stream",
          "name": "stdout",
          "text": [
            "set()\n",
            "<class 'set'>\n"
          ]
        }
      ]
    },
    {
      "cell_type": "markdown",
      "source": [
        "집합(set)\n",
        "- 멤버십(원소와 집합사이의 귀속관계)검사, 시퀀스에서의 중복제거와 교집합, 합집합, 차집합같은 수학 연산 수행에 사용된다.  \n",
        "- 다른 시퀀스(sequence)와 마찬가지로 x in set, len(), 컴프리헨션과 같은 기능을 제공하지만, 삽입순서를 기록하지는 않는다. 따라서 ***인덱싱과 슬라이싱을 사용이 불가능하다.***\n",
        "- 반복  가능한(Iterable)객체로 부터 집합을 만들 수 있지만 모든 데이터가 원소로 사용할 수 있는 것은 아니다. 해시기능(Hashable)이면서 변경 불가능한 자료형만이 집합의 원소로 사용가능하다."
      ],
      "metadata": {
        "id": "dK5CZ-GYmFl0"
      }
    },
    {
      "cell_type": "code",
      "source": [
        "set((3, 1, 2)) # tuple로 집합을 생성하며 오름차순으로 정렬한다."
      ],
      "metadata": {
        "colab": {
          "base_uri": "https://localhost:8080/"
        },
        "id": "bzg7VFiDl5iD",
        "outputId": "4b700b62-6bb4-4a19-b77a-7b86234a0828"
      },
      "execution_count": null,
      "outputs": [
        {
          "output_type": "execute_result",
          "data": {
            "text/plain": [
              "{1, 2, 3}"
            ]
          },
          "metadata": {},
          "execution_count": 27
        }
      ]
    },
    {
      "cell_type": "code",
      "source": [
        "a = (3, 1, 2)\n",
        "set(a)"
      ],
      "metadata": {
        "colab": {
          "base_uri": "https://localhost:8080/"
        },
        "id": "pH1fy_HRmaCz",
        "outputId": "446acd38-6ab3-4b13-84f8-67018a369b44"
      },
      "execution_count": null,
      "outputs": [
        {
          "output_type": "execute_result",
          "data": {
            "text/plain": [
              "{1, 2, 3}"
            ]
          },
          "metadata": {},
          "execution_count": 28
        }
      ]
    },
    {
      "cell_type": "code",
      "source": [
        "set([1, 2, 3]) # list로 집합을 생성하며 오름차순으로 정렬한다."
      ],
      "metadata": {
        "colab": {
          "base_uri": "https://localhost:8080/"
        },
        "id": "DNeiNBQzmoJz",
        "outputId": "ff2fe5bd-1ab5-40e1-a0aa-aa8b457a2da4"
      },
      "execution_count": null,
      "outputs": [
        {
          "output_type": "execute_result",
          "data": {
            "text/plain": [
              "{1, 2, 3}"
            ]
          },
          "metadata": {},
          "execution_count": 30
        }
      ]
    },
    {
      "cell_type": "code",
      "source": [
        "b = [3, 1, 2]\n",
        "s_val = set(b)\n",
        "print(s_val)"
      ],
      "metadata": {
        "colab": {
          "base_uri": "https://localhost:8080/"
        },
        "id": "MJBCm0OZmtEz",
        "outputId": "51103091-cb47-4734-b51d-f48c7739d827"
      },
      "execution_count": null,
      "outputs": [
        {
          "output_type": "stream",
          "name": "stdout",
          "text": [
            "{1, 2, 3}\n"
          ]
        }
      ]
    },
    {
      "cell_type": "code",
      "source": [
        "b[1] = 10\n",
        "print(b)"
      ],
      "metadata": {
        "colab": {
          "base_uri": "https://localhost:8080/"
        },
        "id": "-YQlO33OnBqq",
        "outputId": "ee826b26-ddca-4107-c80f-8665c0c0020f"
      },
      "execution_count": null,
      "outputs": [
        {
          "output_type": "stream",
          "name": "stdout",
          "text": [
            "[3, 10, 2]\n"
          ]
        }
      ]
    },
    {
      "cell_type": "code",
      "source": [
        "print(s_val) # deep copy로 생성하므로 원래 요소 그대로 출력한다."
      ],
      "metadata": {
        "colab": {
          "base_uri": "https://localhost:8080/"
        },
        "id": "L_SOSFeOnJFj",
        "outputId": "6ef1e28d-5c7c-4105-d188-12bfb4b545f0"
      },
      "execution_count": null,
      "outputs": [
        {
          "output_type": "stream",
          "name": "stdout",
          "text": [
            "{1, 2, 3}\n"
          ]
        }
      ]
    },
    {
      "cell_type": "code",
      "source": [
        "set('python') #str로 집합을 생성하며 오름차순으로 정렬한다."
      ],
      "metadata": {
        "colab": {
          "base_uri": "https://localhost:8080/"
        },
        "id": "DpXe5ut5nOtl",
        "outputId": "365c7827-a0c4-4713-932f-4f42be37bee5"
      },
      "execution_count": null,
      "outputs": [
        {
          "output_type": "execute_result",
          "data": {
            "text/plain": [
              "{'h', 'n', 'o', 'p', 't', 'y'}"
            ]
          },
          "metadata": {},
          "execution_count": 34
        }
      ]
    },
    {
      "cell_type": "code",
      "source": [
        "set((3,1,2,2,3,3,2,4)) # 중복된 원소는 한 번만 표현한다.(중복제거)"
      ],
      "metadata": {
        "colab": {
          "base_uri": "https://localhost:8080/"
        },
        "id": "DCjyDt5CnoJ7",
        "outputId": "db0dbc5e-a7ae-49f8-a804-04fb90be8b88"
      },
      "execution_count": null,
      "outputs": [
        {
          "output_type": "execute_result",
          "data": {
            "text/plain": [
              "{1, 2, 3, 4}"
            ]
          },
          "metadata": {},
          "execution_count": 35
        }
      ]
    },
    {
      "cell_type": "code",
      "source": [
        "set('python hello')"
      ],
      "metadata": {
        "colab": {
          "base_uri": "https://localhost:8080/"
        },
        "id": "3zUlK-0In0yS",
        "outputId": "8d0bc1a0-876d-4dd2-f23f-3179dc4f439d"
      },
      "execution_count": null,
      "outputs": [
        {
          "output_type": "execute_result",
          "data": {
            "text/plain": [
              "{' ', 'e', 'h', 'l', 'n', 'o', 'p', 't', 'y'}"
            ]
          },
          "metadata": {},
          "execution_count": 36
        }
      ]
    },
    {
      "cell_type": "code",
      "source": [
        "set({'one':1, 'two':2})  #dict자료형으로 생성하면 키 값만 반환한다."
      ],
      "metadata": {
        "colab": {
          "base_uri": "https://localhost:8080/"
        },
        "id": "2sltcGVuoCqK",
        "outputId": "e351977c-efda-48d7-ae59-2dbb81ac6006"
      },
      "execution_count": null,
      "outputs": [
        {
          "output_type": "execute_result",
          "data": {
            "text/plain": [
              "{'one', 'two'}"
            ]
          },
          "metadata": {},
          "execution_count": 37
        }
      ]
    },
    {
      "cell_type": "code",
      "source": [
        "print(dir(set))"
      ],
      "metadata": {
        "colab": {
          "base_uri": "https://localhost:8080/"
        },
        "id": "cPFZuX6EoONK",
        "outputId": "50d4d242-71c5-4b2d-8e57-3c3d9671f501"
      },
      "execution_count": null,
      "outputs": [
        {
          "output_type": "stream",
          "name": "stdout",
          "text": [
            "['__and__', '__class__', '__class_getitem__', '__contains__', '__delattr__', '__dir__', '__doc__', '__eq__', '__format__', '__ge__', '__getattribute__', '__gt__', '__hash__', '__iand__', '__init__', '__init_subclass__', '__ior__', '__isub__', '__iter__', '__ixor__', '__le__', '__len__', '__lt__', '__ne__', '__new__', '__or__', '__rand__', '__reduce__', '__reduce_ex__', '__repr__', '__ror__', '__rsub__', '__rxor__', '__setattr__', '__sizeof__', '__str__', '__sub__', '__subclasshook__', '__xor__', 'add', 'clear', 'copy', 'difference', 'difference_update', 'discard', 'intersection', 'intersection_update', 'isdisjoint', 'issubset', 'issuperset', 'pop', 'remove', 'symmetric_difference', 'symmetric_difference_update', 'union', 'update']\n"
          ]
        }
      ]
    },
    {
      "cell_type": "markdown",
      "source": [
        "### frozenset\n",
        "- 값을 변경하지 않는 범위에서 set객체와 동일하게 동작한다.\n",
        "- frozenset 객체의 생성은 집합을 포함한 반복 가능한 자료형으로 부터 가능하다.\n",
        "- frozenset은 frozenset( )으로 생성한다."
      ],
      "metadata": {
        "id": "DviueExgrbRD"
      }
    },
    {
      "cell_type": "code",
      "source": [
        "f_val = frozenset()\n",
        "print(f_val)\n",
        "print(type(f_val))"
      ],
      "metadata": {
        "colab": {
          "base_uri": "https://localhost:8080/"
        },
        "id": "_Dm2EegKoWWK",
        "outputId": "40c52835-fd53-4d22-c027-25afc2cc7ecf"
      },
      "execution_count": null,
      "outputs": [
        {
          "output_type": "stream",
          "name": "stdout",
          "text": [
            "frozenset()\n",
            "<class 'frozenset'>\n"
          ]
        }
      ]
    },
    {
      "cell_type": "code",
      "source": [
        "f_val2 = frozenset([1,2,3,4,5])\n",
        "print(f_val2)\n",
        "print(type(f_val2))"
      ],
      "metadata": {
        "colab": {
          "base_uri": "https://localhost:8080/"
        },
        "id": "-JNkFITerqCB",
        "outputId": "bf80f089-b955-42e8-eafa-7aa218487299"
      },
      "execution_count": null,
      "outputs": [
        {
          "output_type": "stream",
          "name": "stdout",
          "text": [
            "frozenset({1, 2, 3, 4, 5})\n",
            "<class 'frozenset'>\n"
          ]
        }
      ]
    },
    {
      "cell_type": "code",
      "source": [
        "print(dir(frozenset))"
      ],
      "metadata": {
        "colab": {
          "base_uri": "https://localhost:8080/"
        },
        "id": "WBg3zzGFr5SD",
        "outputId": "849e7121-5a5e-4160-870e-acb47ed1c3d6"
      },
      "execution_count": null,
      "outputs": [
        {
          "output_type": "stream",
          "name": "stdout",
          "text": [
            "['__and__', '__class__', '__class_getitem__', '__contains__', '__delattr__', '__dir__', '__doc__', '__eq__', '__format__', '__ge__', '__getattribute__', '__gt__', '__hash__', '__init__', '__init_subclass__', '__iter__', '__le__', '__len__', '__lt__', '__ne__', '__new__', '__or__', '__rand__', '__reduce__', '__reduce_ex__', '__repr__', '__ror__', '__rsub__', '__rxor__', '__setattr__', '__sizeof__', '__str__', '__sub__', '__subclasshook__', '__xor__', 'copy', 'difference', 'intersection', 'isdisjoint', 'issubset', 'issuperset', 'symmetric_difference', 'union']\n"
          ]
        }
      ]
    },
    {
      "cell_type": "markdown",
      "source": [
        "### dict(사전)\n",
        "- 특정 키를 주면 이와 관련된 값을 돌려주는 내용 기반으로 검색하는 자료형이다.\n",
        "- 데이터의 저장 순서가 없다.\n",
        "- 내부적으로 해시 기법을 사용하기 때문에 검색 속도가 빠르다.\n",
        "- key-value 형식으로 저장을 하기 때문에 key을 이용해서 value에 접근한다.\n",
        "- key값은 중복을 허용하지 않는다."
      ],
      "metadata": {
        "id": "gl_dSzczsQyw"
      }
    },
    {
      "cell_type": "markdown",
      "source": [
        "dict생성은 { } 또는 dict( )함수를 사용해서 생성할 수 있다."
      ],
      "metadata": {
        "id": "T5s-I5hTsV7a"
      }
    },
    {
      "cell_type": "code",
      "source": [
        "d_val = {'one':1, 'two':2} # key을 홀따옴표 또는 쌍따옴표를 묶어 준다.\n",
        "print(d_val)\n",
        "print(type(d_val))"
      ],
      "metadata": {
        "colab": {
          "base_uri": "https://localhost:8080/"
        },
        "id": "p0PIKc2msGb4",
        "outputId": "e3abb581-7669-451a-9b8f-52839dcb5ef4"
      },
      "execution_count": null,
      "outputs": [
        {
          "output_type": "stream",
          "name": "stdout",
          "text": [
            "{'one': 1, 'two': 2}\n",
            "<class 'dict'>\n"
          ]
        }
      ]
    },
    {
      "cell_type": "code",
      "source": [
        "d_val2 = dict(one=1, two=2) #dict( )함수를 사용해서 생성할때는 key를 'one' 또는 \"one\"를 사용하지 않는다.\n",
        "print(d_val2)\n",
        "print(type(d_val2))"
      ],
      "metadata": {
        "colab": {
          "base_uri": "https://localhost:8080/"
        },
        "id": "fxw1wYfJshMo",
        "outputId": "e05d99d3-6b38-4e36-e52c-20cdead9c5d4"
      },
      "execution_count": null,
      "outputs": [
        {
          "output_type": "stream",
          "name": "stdout",
          "text": [
            "{'one': 1, 'two': 2}\n",
            "<class 'dict'>\n"
          ]
        }
      ]
    },
    {
      "cell_type": "markdown",
      "source": [
        "zip함수를 이용해서 dict()을 생성할 수 있다."
      ],
      "metadata": {
        "id": "mwRwneIJtq6o"
      }
    },
    {
      "cell_type": "code",
      "source": [
        "keys = ['one', 'two', 'three']\n",
        "values = [1, 2, 3]\n",
        "d_val3 = dict(zip(keys, values))\n",
        "print(d_val3)\n",
        "print(type(d_val3))"
      ],
      "metadata": {
        "colab": {
          "base_uri": "https://localhost:8080/"
        },
        "id": "Qj_01Szrs-Co",
        "outputId": "22c5d210-5365-4c76-c1f9-a292ea9f7e94"
      },
      "execution_count": null,
      "outputs": [
        {
          "output_type": "stream",
          "name": "stdout",
          "text": [
            "{'one': 1, 'two': 2, 'three': 3}\n",
            "<class 'dict'>\n"
          ]
        }
      ]
    },
    {
      "cell_type": "code",
      "source": [
        "print(dir(dict))"
      ],
      "metadata": {
        "colab": {
          "base_uri": "https://localhost:8080/"
        },
        "id": "IpB3V14At-h4",
        "outputId": "73bacdbf-141c-4132-f655-4bdc6e245101"
      },
      "execution_count": null,
      "outputs": [
        {
          "output_type": "stream",
          "name": "stdout",
          "text": [
            "['__class__', '__class_getitem__', '__contains__', '__delattr__', '__delitem__', '__dir__', '__doc__', '__eq__', '__format__', '__ge__', '__getattribute__', '__getitem__', '__gt__', '__hash__', '__init__', '__init_subclass__', '__ior__', '__iter__', '__le__', '__len__', '__lt__', '__ne__', '__new__', '__or__', '__reduce__', '__reduce_ex__', '__repr__', '__reversed__', '__ror__', '__setattr__', '__setitem__', '__sizeof__', '__str__', '__subclasshook__', 'clear', 'copy', 'fromkeys', 'get', 'items', 'keys', 'pop', 'popitem', 'setdefault', 'update', 'values']\n"
          ]
        }
      ]
    },
    {
      "cell_type": "markdown",
      "source": [
        "mutable : list, set, dict  \n",
        "immutable : tuple, str, frozenset\n",
        "sequence : list, tuple, str  => indexing, slicing\n"
      ],
      "metadata": {
        "id": "U1t87uNSuZIf"
      }
    },
    {
      "cell_type": "code",
      "source": [],
      "metadata": {
        "id": "rRvwT559uREn"
      },
      "execution_count": null,
      "outputs": []
    }
  ]
}